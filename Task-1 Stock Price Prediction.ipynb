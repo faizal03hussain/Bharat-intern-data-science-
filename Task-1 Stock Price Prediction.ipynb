{
 "cells": [
  {
   "cell_type": "markdown",
   "id": "00b402f2",
   "metadata": {},
   "source": [
    "# TASK 1 : Stock Prediction : To predict stock price of a company using LSTM (Long Short Term Memory)  \n",
    "  \n",
    "\n",
    "### Done by **Faizal Hussain** as a part of Bharat Intern DataScience Internship\n"
   ]
  },
  {
   "cell_type": "markdown",
   "id": "6d67fee9",
   "metadata": {},
   "source": [
    "### ABOUT DATASET\n",
    "\n",
    "This Dataset Contains the Historical Share Price of **Tata Consultancy Services ltd(TCS)** From 2004 to 2002.  \n",
    "This Dataset Contains seven columns  \n",
    "Date-- Date includes day and month and year  \n",
    "open -- open value of the TCS stock price on particular day  \n",
    "High -- high price value of TCS on particular day  \n",
    "LOW -- Low Price Value Of ITC on particular day  \n",
    "Close --Stock Price of TCS After Closing The Stock Market  \n",
    "Volume -- Volume of TCS means sum of buy's and shares  \n",
    "Adjclose --Adjusted close is the closing price after adjustments for all applicable splits and dividend distributions  \n",
    "\n",
    "The dataset is available at Kaggle : https://www.kaggle.com/datasets/saikumartamminana/tcs-stock-price-prediction"
   ]
  },
  {
   "cell_type": "markdown",
   "metadata": {},
   "source": [
    "#### Importing necessary libraries"
   ]
  },
  {
   "cell_type": "code",
   "execution_count": 27,
   "id": "f6fe173f",
   "metadata": {},
   "outputs": [],
   "source": [
    "import numpy as np\n",
    "import pandas as pd\n",
    "import matplotlib.pyplot as plt\n",
    "import tensorflow as tf\n",
    "from sklearn.preprocessing import MinMaxScaler"
   ]
  },
  {
   "cell_type": "markdown",
   "metadata": {},
   "source": [
    "#### Reading and pre-processing of Dataset"
   ]
  },
  {
   "cell_type": "code",
   "execution_count": 28,
   "metadata": {},
   "outputs": [
    {
     "data": {
      "text/html": [
       "<div>\n",
       "<style scoped>\n",
       "    .dataframe tbody tr th:only-of-type {\n",
       "        vertical-align: middle;\n",
       "    }\n",
       "\n",
       "    .dataframe tbody tr th {\n",
       "        vertical-align: top;\n",
       "    }\n",
       "\n",
       "    .dataframe thead th {\n",
       "        text-align: right;\n",
       "    }\n",
       "</style>\n",
       "<table border=\"1\" class=\"dataframe\">\n",
       "  <thead>\n",
       "    <tr style=\"text-align: right;\">\n",
       "      <th></th>\n",
       "      <th>Date</th>\n",
       "      <th>Open</th>\n",
       "      <th>High</th>\n",
       "      <th>Low</th>\n",
       "      <th>Close</th>\n",
       "      <th>Adj Close</th>\n",
       "      <th>Volume</th>\n",
       "    </tr>\n",
       "  </thead>\n",
       "  <tbody>\n",
       "    <tr>\n",
       "      <th>0</th>\n",
       "      <td>2004-08-27</td>\n",
       "      <td>122.800003</td>\n",
       "      <td>122.800003</td>\n",
       "      <td>119.820000</td>\n",
       "      <td>120.332497</td>\n",
       "      <td>88.088272</td>\n",
       "      <td>30646000.0</td>\n",
       "    </tr>\n",
       "    <tr>\n",
       "      <th>1</th>\n",
       "      <td>2004-08-30</td>\n",
       "      <td>121.237503</td>\n",
       "      <td>123.750000</td>\n",
       "      <td>120.625000</td>\n",
       "      <td>123.345001</td>\n",
       "      <td>90.293549</td>\n",
       "      <td>24465208.0</td>\n",
       "    </tr>\n",
       "    <tr>\n",
       "      <th>2</th>\n",
       "      <td>2004-08-31</td>\n",
       "      <td>123.312500</td>\n",
       "      <td>123.750000</td>\n",
       "      <td>122.000000</td>\n",
       "      <td>123.512497</td>\n",
       "      <td>90.416122</td>\n",
       "      <td>21194656.0</td>\n",
       "    </tr>\n",
       "    <tr>\n",
       "      <th>3</th>\n",
       "      <td>2004-09-01</td>\n",
       "      <td>123.750000</td>\n",
       "      <td>124.375000</td>\n",
       "      <td>122.949997</td>\n",
       "      <td>123.487503</td>\n",
       "      <td>90.397820</td>\n",
       "      <td>19935544.0</td>\n",
       "    </tr>\n",
       "    <tr>\n",
       "      <th>4</th>\n",
       "      <td>2004-09-02</td>\n",
       "      <td>123.737503</td>\n",
       "      <td>125.574997</td>\n",
       "      <td>123.250000</td>\n",
       "      <td>124.207497</td>\n",
       "      <td>90.924896</td>\n",
       "      <td>21356352.0</td>\n",
       "    </tr>\n",
       "  </tbody>\n",
       "</table>\n",
       "</div>"
      ],
      "text/plain": [
       "         Date        Open        High         Low       Close  Adj Close  \\\n",
       "0  2004-08-27  122.800003  122.800003  119.820000  120.332497  88.088272   \n",
       "1  2004-08-30  121.237503  123.750000  120.625000  123.345001  90.293549   \n",
       "2  2004-08-31  123.312500  123.750000  122.000000  123.512497  90.416122   \n",
       "3  2004-09-01  123.750000  124.375000  122.949997  123.487503  90.397820   \n",
       "4  2004-09-02  123.737503  125.574997  123.250000  124.207497  90.924896   \n",
       "\n",
       "       Volume  \n",
       "0  30646000.0  \n",
       "1  24465208.0  \n",
       "2  21194656.0  \n",
       "3  19935544.0  \n",
       "4  21356352.0  "
      ]
     },
     "execution_count": 28,
     "metadata": {},
     "output_type": "execute_result"
    }
   ],
   "source": [
    "df=pd.read_csv(\"TCS1.csv\")\n",
    "df.head()"
   ]
  },
  {
   "cell_type": "code",
   "execution_count": 29,
   "metadata": {},
   "outputs": [
    {
     "data": {
      "text/html": [
       "<div>\n",
       "<style scoped>\n",
       "    .dataframe tbody tr th:only-of-type {\n",
       "        vertical-align: middle;\n",
       "    }\n",
       "\n",
       "    .dataframe tbody tr th {\n",
       "        vertical-align: top;\n",
       "    }\n",
       "\n",
       "    .dataframe thead th {\n",
       "        text-align: right;\n",
       "    }\n",
       "</style>\n",
       "<table border=\"1\" class=\"dataframe\">\n",
       "  <thead>\n",
       "    <tr style=\"text-align: right;\">\n",
       "      <th></th>\n",
       "      <th>Date</th>\n",
       "      <th>Open</th>\n",
       "      <th>High</th>\n",
       "      <th>Low</th>\n",
       "      <th>Close</th>\n",
       "      <th>Adj Close</th>\n",
       "      <th>Volume</th>\n",
       "    </tr>\n",
       "  </thead>\n",
       "  <tbody>\n",
       "    <tr>\n",
       "      <th>4489</th>\n",
       "      <td>2022-10-18</td>\n",
       "      <td>3150.000000</td>\n",
       "      <td>3155.350098</td>\n",
       "      <td>3128.550049</td>\n",
       "      <td>3144.699951</td>\n",
       "      <td>3144.699951</td>\n",
       "      <td>1793722.0</td>\n",
       "    </tr>\n",
       "    <tr>\n",
       "      <th>4490</th>\n",
       "      <td>2022-10-19</td>\n",
       "      <td>3159.000000</td>\n",
       "      <td>3159.000000</td>\n",
       "      <td>3112.000000</td>\n",
       "      <td>3121.850098</td>\n",
       "      <td>3121.850098</td>\n",
       "      <td>1194289.0</td>\n",
       "    </tr>\n",
       "    <tr>\n",
       "      <th>4491</th>\n",
       "      <td>2022-10-20</td>\n",
       "      <td>3105.000000</td>\n",
       "      <td>3160.000000</td>\n",
       "      <td>3105.000000</td>\n",
       "      <td>3157.300049</td>\n",
       "      <td>3157.300049</td>\n",
       "      <td>1587601.0</td>\n",
       "    </tr>\n",
       "    <tr>\n",
       "      <th>4492</th>\n",
       "      <td>2022-10-21</td>\n",
       "      <td>3157.800049</td>\n",
       "      <td>3160.399902</td>\n",
       "      <td>3127.000000</td>\n",
       "      <td>3137.399902</td>\n",
       "      <td>3137.399902</td>\n",
       "      <td>1021913.0</td>\n",
       "    </tr>\n",
       "    <tr>\n",
       "      <th>4493</th>\n",
       "      <td>2022-10-24</td>\n",
       "      <td>3170.100098</td>\n",
       "      <td>3178.000000</td>\n",
       "      <td>3155.000000</td>\n",
       "      <td>3161.699951</td>\n",
       "      <td>3161.699951</td>\n",
       "      <td>260949.0</td>\n",
       "    </tr>\n",
       "  </tbody>\n",
       "</table>\n",
       "</div>"
      ],
      "text/plain": [
       "            Date         Open         High          Low        Close  \\\n",
       "4489  2022-10-18  3150.000000  3155.350098  3128.550049  3144.699951   \n",
       "4490  2022-10-19  3159.000000  3159.000000  3112.000000  3121.850098   \n",
       "4491  2022-10-20  3105.000000  3160.000000  3105.000000  3157.300049   \n",
       "4492  2022-10-21  3157.800049  3160.399902  3127.000000  3137.399902   \n",
       "4493  2022-10-24  3170.100098  3178.000000  3155.000000  3161.699951   \n",
       "\n",
       "        Adj Close     Volume  \n",
       "4489  3144.699951  1793722.0  \n",
       "4490  3121.850098  1194289.0  \n",
       "4491  3157.300049  1587601.0  \n",
       "4492  3137.399902  1021913.0  \n",
       "4493  3161.699951   260949.0  "
      ]
     },
     "execution_count": 29,
     "metadata": {},
     "output_type": "execute_result"
    }
   ],
   "source": [
    "df.tail()"
   ]
  },
  {
   "cell_type": "code",
   "execution_count": 30,
   "metadata": {},
   "outputs": [
    {
     "name": "stdout",
     "output_type": "stream",
     "text": [
      "<class 'pandas.core.frame.DataFrame'>\n",
      "RangeIndex: 4494 entries, 0 to 4493\n",
      "Data columns (total 7 columns):\n",
      " #   Column     Non-Null Count  Dtype  \n",
      "---  ------     --------------  -----  \n",
      " 0   Date       4494 non-null   object \n",
      " 1   Open       4486 non-null   float64\n",
      " 2   High       4486 non-null   float64\n",
      " 3   Low        4486 non-null   float64\n",
      " 4   Close      4486 non-null   float64\n",
      " 5   Adj Close  4486 non-null   float64\n",
      " 6   Volume     4486 non-null   float64\n",
      "dtypes: float64(6), object(1)\n",
      "memory usage: 245.9+ KB\n"
     ]
    }
   ],
   "source": [
    "df.info()"
   ]
  },
  {
   "cell_type": "code",
   "execution_count": 31,
   "metadata": {},
   "outputs": [
    {
     "data": {
      "text/plain": [
       "(4494, 7)"
      ]
     },
     "execution_count": 31,
     "metadata": {},
     "output_type": "execute_result"
    }
   ],
   "source": [
    "df.shape"
   ]
  },
  {
   "cell_type": "code",
   "execution_count": 32,
   "metadata": {},
   "outputs": [
    {
     "data": {
      "text/plain": [
       "Index(['Date', 'Open', 'High', 'Low', 'Close', 'Adj Close', 'Volume'], dtype='object')"
      ]
     },
     "execution_count": 32,
     "metadata": {},
     "output_type": "execute_result"
    }
   ],
   "source": [
    "df.columns"
   ]
  },
  {
   "cell_type": "code",
   "execution_count": 33,
   "metadata": {},
   "outputs": [
    {
     "data": {
      "text/html": [
       "<div>\n",
       "<style scoped>\n",
       "    .dataframe tbody tr th:only-of-type {\n",
       "        vertical-align: middle;\n",
       "    }\n",
       "\n",
       "    .dataframe tbody tr th {\n",
       "        vertical-align: top;\n",
       "    }\n",
       "\n",
       "    .dataframe thead th {\n",
       "        text-align: right;\n",
       "    }\n",
       "</style>\n",
       "<table border=\"1\" class=\"dataframe\">\n",
       "  <thead>\n",
       "    <tr style=\"text-align: right;\">\n",
       "      <th></th>\n",
       "      <th>count</th>\n",
       "      <th>mean</th>\n",
       "      <th>std</th>\n",
       "      <th>min</th>\n",
       "      <th>25%</th>\n",
       "      <th>50%</th>\n",
       "      <th>75%</th>\n",
       "      <th>max</th>\n",
       "    </tr>\n",
       "  </thead>\n",
       "  <tbody>\n",
       "    <tr>\n",
       "      <th>Open</th>\n",
       "      <td>4486.0</td>\n",
       "      <td>1.146183e+03</td>\n",
       "      <td>9.940701e+02</td>\n",
       "      <td>112.000000</td>\n",
       "      <td>2.906937e+02</td>\n",
       "      <td>9.774500e+02</td>\n",
       "      <td>1.564775e+03</td>\n",
       "      <td>4.033950e+03</td>\n",
       "    </tr>\n",
       "    <tr>\n",
       "      <th>High</th>\n",
       "      <td>4486.0</td>\n",
       "      <td>1.158538e+03</td>\n",
       "      <td>1.003011e+03</td>\n",
       "      <td>116.112503</td>\n",
       "      <td>2.953000e+02</td>\n",
       "      <td>9.950000e+02</td>\n",
       "      <td>1.597287e+03</td>\n",
       "      <td>4.043000e+03</td>\n",
       "    </tr>\n",
       "    <tr>\n",
       "      <th>Low</th>\n",
       "      <td>4486.0</td>\n",
       "      <td>1.132825e+03</td>\n",
       "      <td>9.840434e+02</td>\n",
       "      <td>103.837502</td>\n",
       "      <td>2.859313e+02</td>\n",
       "      <td>9.702500e+02</td>\n",
       "      <td>1.548663e+03</td>\n",
       "      <td>3.980000e+03</td>\n",
       "    </tr>\n",
       "    <tr>\n",
       "      <th>Close</th>\n",
       "      <td>4486.0</td>\n",
       "      <td>1.145521e+03</td>\n",
       "      <td>9.933465e+02</td>\n",
       "      <td>111.550003</td>\n",
       "      <td>2.902750e+02</td>\n",
       "      <td>9.813375e+02</td>\n",
       "      <td>1.576781e+03</td>\n",
       "      <td>4.019150e+03</td>\n",
       "    </tr>\n",
       "    <tr>\n",
       "      <th>Adj Close</th>\n",
       "      <td>4486.0</td>\n",
       "      <td>1.049457e+03</td>\n",
       "      <td>9.920626e+02</td>\n",
       "      <td>86.565590</td>\n",
       "      <td>2.199027e+02</td>\n",
       "      <td>8.206278e+02</td>\n",
       "      <td>1.443632e+03</td>\n",
       "      <td>3.964503e+03</td>\n",
       "    </tr>\n",
       "    <tr>\n",
       "      <th>Volume</th>\n",
       "      <td>4486.0</td>\n",
       "      <td>3.620596e+06</td>\n",
       "      <td>3.162368e+06</td>\n",
       "      <td>0.000000</td>\n",
       "      <td>1.942489e+06</td>\n",
       "      <td>2.804749e+06</td>\n",
       "      <td>4.297410e+06</td>\n",
       "      <td>8.806715e+07</td>\n",
       "    </tr>\n",
       "  </tbody>\n",
       "</table>\n",
       "</div>"
      ],
      "text/plain": [
       "            count          mean           std         min           25%  \\\n",
       "Open       4486.0  1.146183e+03  9.940701e+02  112.000000  2.906937e+02   \n",
       "High       4486.0  1.158538e+03  1.003011e+03  116.112503  2.953000e+02   \n",
       "Low        4486.0  1.132825e+03  9.840434e+02  103.837502  2.859313e+02   \n",
       "Close      4486.0  1.145521e+03  9.933465e+02  111.550003  2.902750e+02   \n",
       "Adj Close  4486.0  1.049457e+03  9.920626e+02   86.565590  2.199027e+02   \n",
       "Volume     4486.0  3.620596e+06  3.162368e+06    0.000000  1.942489e+06   \n",
       "\n",
       "                    50%           75%           max  \n",
       "Open       9.774500e+02  1.564775e+03  4.033950e+03  \n",
       "High       9.950000e+02  1.597287e+03  4.043000e+03  \n",
       "Low        9.702500e+02  1.548663e+03  3.980000e+03  \n",
       "Close      9.813375e+02  1.576781e+03  4.019150e+03  \n",
       "Adj Close  8.206278e+02  1.443632e+03  3.964503e+03  \n",
       "Volume     2.804749e+06  4.297410e+06  8.806715e+07  "
      ]
     },
     "execution_count": 33,
     "metadata": {},
     "output_type": "execute_result"
    }
   ],
   "source": [
    "df.describe().T"
   ]
  },
  {
   "cell_type": "markdown",
   "metadata": {},
   "source": [
    "#### Sorting the data"
   ]
  },
  {
   "cell_type": "markdown",
   "metadata": {},
   "source": [
    "#### "
   ]
  },
  {
   "cell_type": "code",
   "execution_count": 34,
   "metadata": {},
   "outputs": [
    {
     "data": {
      "text/plain": [
       "Date         0\n",
       "Open         8\n",
       "High         8\n",
       "Low          8\n",
       "Close        8\n",
       "Adj Close    8\n",
       "Volume       8\n",
       "dtype: int64"
      ]
     },
     "execution_count": 34,
     "metadata": {},
     "output_type": "execute_result"
    }
   ],
   "source": [
    "# checking for null values\n",
    "df.isnull().sum()"
   ]
  },
  {
   "cell_type": "code",
   "execution_count": 35,
   "metadata": {},
   "outputs": [],
   "source": [
    "#dropping null values\n",
    "df=df.dropna()\n"
   ]
  },
  {
   "cell_type": "code",
   "execution_count": 36,
   "metadata": {},
   "outputs": [
    {
     "data": {
      "text/plain": [
       "Date         0\n",
       "Open         0\n",
       "High         0\n",
       "Low          0\n",
       "Close        0\n",
       "Adj Close    0\n",
       "Volume       0\n",
       "dtype: int64"
      ]
     },
     "execution_count": 36,
     "metadata": {},
     "output_type": "execute_result"
    }
   ],
   "source": [
    "df.isnull().sum()"
   ]
  },
  {
   "cell_type": "code",
   "execution_count": 37,
   "metadata": {},
   "outputs": [
    {
     "data": {
      "text/plain": [
       "0"
      ]
     },
     "execution_count": 37,
     "metadata": {},
     "output_type": "execute_result"
    }
   ],
   "source": [
    "#check for duplicates\n",
    "df.duplicated().sum()"
   ]
  },
  {
   "cell_type": "code",
   "execution_count": 38,
   "metadata": {},
   "outputs": [
    {
     "data": {
      "text/html": [
       "<div>\n",
       "<style scoped>\n",
       "    .dataframe tbody tr th:only-of-type {\n",
       "        vertical-align: middle;\n",
       "    }\n",
       "\n",
       "    .dataframe tbody tr th {\n",
       "        vertical-align: top;\n",
       "    }\n",
       "\n",
       "    .dataframe thead th {\n",
       "        text-align: right;\n",
       "    }\n",
       "</style>\n",
       "<table border=\"1\" class=\"dataframe\">\n",
       "  <thead>\n",
       "    <tr style=\"text-align: right;\">\n",
       "      <th></th>\n",
       "      <th>Date</th>\n",
       "      <th>Open</th>\n",
       "      <th>High</th>\n",
       "      <th>Low</th>\n",
       "      <th>Close</th>\n",
       "      <th>Adj Close</th>\n",
       "      <th>Volume</th>\n",
       "    </tr>\n",
       "  </thead>\n",
       "  <tbody>\n",
       "    <tr>\n",
       "      <th>0</th>\n",
       "      <td>2004-08-27</td>\n",
       "      <td>122.800003</td>\n",
       "      <td>122.800003</td>\n",
       "      <td>119.820000</td>\n",
       "      <td>120.332497</td>\n",
       "      <td>88.088272</td>\n",
       "      <td>30646000.0</td>\n",
       "    </tr>\n",
       "    <tr>\n",
       "      <th>1</th>\n",
       "      <td>2004-08-30</td>\n",
       "      <td>121.237503</td>\n",
       "      <td>123.750000</td>\n",
       "      <td>120.625000</td>\n",
       "      <td>123.345001</td>\n",
       "      <td>90.293549</td>\n",
       "      <td>24465208.0</td>\n",
       "    </tr>\n",
       "    <tr>\n",
       "      <th>2</th>\n",
       "      <td>2004-08-31</td>\n",
       "      <td>123.312500</td>\n",
       "      <td>123.750000</td>\n",
       "      <td>122.000000</td>\n",
       "      <td>123.512497</td>\n",
       "      <td>90.416122</td>\n",
       "      <td>21194656.0</td>\n",
       "    </tr>\n",
       "    <tr>\n",
       "      <th>3</th>\n",
       "      <td>2004-09-01</td>\n",
       "      <td>123.750000</td>\n",
       "      <td>124.375000</td>\n",
       "      <td>122.949997</td>\n",
       "      <td>123.487503</td>\n",
       "      <td>90.397820</td>\n",
       "      <td>19935544.0</td>\n",
       "    </tr>\n",
       "    <tr>\n",
       "      <th>4</th>\n",
       "      <td>2004-09-02</td>\n",
       "      <td>123.737503</td>\n",
       "      <td>125.574997</td>\n",
       "      <td>123.250000</td>\n",
       "      <td>124.207497</td>\n",
       "      <td>90.924896</td>\n",
       "      <td>21356352.0</td>\n",
       "    </tr>\n",
       "  </tbody>\n",
       "</table>\n",
       "</div>"
      ],
      "text/plain": [
       "         Date        Open        High         Low       Close  Adj Close  \\\n",
       "0  2004-08-27  122.800003  122.800003  119.820000  120.332497  88.088272   \n",
       "1  2004-08-30  121.237503  123.750000  120.625000  123.345001  90.293549   \n",
       "2  2004-08-31  123.312500  123.750000  122.000000  123.512497  90.416122   \n",
       "3  2004-09-01  123.750000  124.375000  122.949997  123.487503  90.397820   \n",
       "4  2004-09-02  123.737503  125.574997  123.250000  124.207497  90.924896   \n",
       "\n",
       "       Volume  \n",
       "0  30646000.0  \n",
       "1  24465208.0  \n",
       "2  21194656.0  \n",
       "3  19935544.0  \n",
       "4  21356352.0  "
      ]
     },
     "execution_count": 38,
     "metadata": {},
     "output_type": "execute_result"
    }
   ],
   "source": [
    "#sorting the data\n",
    "sort=df.sort_values(by='Date')\n",
    "sort.head()"
   ]
  },
  {
   "cell_type": "code",
   "execution_count": 39,
   "metadata": {},
   "outputs": [
    {
     "data": {
      "text/html": [
       "<div>\n",
       "<style scoped>\n",
       "    .dataframe tbody tr th:only-of-type {\n",
       "        vertical-align: middle;\n",
       "    }\n",
       "\n",
       "    .dataframe tbody tr th {\n",
       "        vertical-align: top;\n",
       "    }\n",
       "\n",
       "    .dataframe thead th {\n",
       "        text-align: right;\n",
       "    }\n",
       "</style>\n",
       "<table border=\"1\" class=\"dataframe\">\n",
       "  <thead>\n",
       "    <tr style=\"text-align: right;\">\n",
       "      <th></th>\n",
       "      <th>index</th>\n",
       "      <th>Date</th>\n",
       "      <th>Open</th>\n",
       "      <th>High</th>\n",
       "      <th>Low</th>\n",
       "      <th>Close</th>\n",
       "      <th>Adj Close</th>\n",
       "      <th>Volume</th>\n",
       "    </tr>\n",
       "  </thead>\n",
       "  <tbody>\n",
       "    <tr>\n",
       "      <th>0</th>\n",
       "      <td>0</td>\n",
       "      <td>2004-08-27</td>\n",
       "      <td>122.800003</td>\n",
       "      <td>122.800003</td>\n",
       "      <td>119.820000</td>\n",
       "      <td>120.332497</td>\n",
       "      <td>88.088272</td>\n",
       "      <td>30646000.0</td>\n",
       "    </tr>\n",
       "    <tr>\n",
       "      <th>1</th>\n",
       "      <td>1</td>\n",
       "      <td>2004-08-30</td>\n",
       "      <td>121.237503</td>\n",
       "      <td>123.750000</td>\n",
       "      <td>120.625000</td>\n",
       "      <td>123.345001</td>\n",
       "      <td>90.293549</td>\n",
       "      <td>24465208.0</td>\n",
       "    </tr>\n",
       "    <tr>\n",
       "      <th>2</th>\n",
       "      <td>2</td>\n",
       "      <td>2004-08-31</td>\n",
       "      <td>123.312500</td>\n",
       "      <td>123.750000</td>\n",
       "      <td>122.000000</td>\n",
       "      <td>123.512497</td>\n",
       "      <td>90.416122</td>\n",
       "      <td>21194656.0</td>\n",
       "    </tr>\n",
       "    <tr>\n",
       "      <th>3</th>\n",
       "      <td>3</td>\n",
       "      <td>2004-09-01</td>\n",
       "      <td>123.750000</td>\n",
       "      <td>124.375000</td>\n",
       "      <td>122.949997</td>\n",
       "      <td>123.487503</td>\n",
       "      <td>90.397820</td>\n",
       "      <td>19935544.0</td>\n",
       "    </tr>\n",
       "    <tr>\n",
       "      <th>4</th>\n",
       "      <td>4</td>\n",
       "      <td>2004-09-02</td>\n",
       "      <td>123.737503</td>\n",
       "      <td>125.574997</td>\n",
       "      <td>123.250000</td>\n",
       "      <td>124.207497</td>\n",
       "      <td>90.924896</td>\n",
       "      <td>21356352.0</td>\n",
       "    </tr>\n",
       "  </tbody>\n",
       "</table>\n",
       "</div>"
      ],
      "text/plain": [
       "   index        Date        Open        High         Low       Close  \\\n",
       "0      0  2004-08-27  122.800003  122.800003  119.820000  120.332497   \n",
       "1      1  2004-08-30  121.237503  123.750000  120.625000  123.345001   \n",
       "2      2  2004-08-31  123.312500  123.750000  122.000000  123.512497   \n",
       "3      3  2004-09-01  123.750000  124.375000  122.949997  123.487503   \n",
       "4      4  2004-09-02  123.737503  125.574997  123.250000  124.207497   \n",
       "\n",
       "   Adj Close      Volume  \n",
       "0  88.088272  30646000.0  \n",
       "1  90.293549  24465208.0  \n",
       "2  90.416122  21194656.0  \n",
       "3  90.397820  19935544.0  \n",
       "4  90.924896  21356352.0  "
      ]
     },
     "execution_count": 39,
     "metadata": {},
     "output_type": "execute_result"
    }
   ],
   "source": [
    "#resetting the index to start from 0\n",
    "sort.reset_index(inplace=True)\n",
    "sort.head()"
   ]
  },
  {
   "cell_type": "markdown",
   "metadata": {},
   "source": [
    "### Data Visualization"
   ]
  },
  {
   "cell_type": "markdown",
   "metadata": {},
   "source": [
    "#### Plot for Date and close fields"
   ]
  },
  {
   "cell_type": "code",
   "execution_count": 43,
   "metadata": {},
   "outputs": [
    {
     "data": {
      "text/plain": [
       "Text(0.5, 1.0, 'Date vs Close')"
      ]
     },
     "execution_count": 43,
     "metadata": {},
     "output_type": "execute_result"
    },
    {
     "data": {
      "image/png": "[encoded data removed]",
      "text/plain": [
       "<Figure size 1000x700 with 1 Axes>"
      ]
     },
     "metadata": {},
     "output_type": "display_data"
    }
   ],
   "source": [
    "plt.figure(figsize=(10,7))\n",
    "plt.plot(sort['Date'],sort['Close'],c='r')\n",
    "plt.xlabel('Date')\n",
    "plt.ylabel('Close')\n",
    "plt.title(\"Date vs Close\")"
   ]
  },
  {
   "cell_type": "code",
   "execution_count": 44,
   "metadata": {},
   "outputs": [
    {
     "data": {
      "text/plain": [
       "0        120.332497\n",
       "1        123.345001\n",
       "2        123.512497\n",
       "3        123.487503\n",
       "4        124.207497\n",
       "           ...     \n",
       "4481    3144.699951\n",
       "4482    3121.850098\n",
       "4483    3157.300049\n",
       "4484    3137.399902\n",
       "4485    3161.699951\n",
       "Name: Close, Length: 4486, dtype: float64"
      ]
     },
     "execution_count": 44,
     "metadata": {},
     "output_type": "execute_result"
    }
   ],
   "source": [
    "#sorting the **close** attribute because this attribute will be used later for prediction\n",
    "close_sort = sort['Close']\n",
    "close_sort"
   ]
  },
  {
   "cell_type": "markdown",
   "metadata": {},
   "source": [
    "#### Feature Scaling"
   ]
  },
  {
   "cell_type": "code",
   "execution_count": 45,
   "metadata": {},
   "outputs": [
    {
     "data": {
      "text/plain": [
       "array([[0.00224754],\n",
       "       [0.00301848],\n",
       "       [0.00306134],\n",
       "       ...,\n",
       "       [0.77944266],\n",
       "       [0.77434998],\n",
       "       [0.78056864]])"
      ]
     },
     "execution_count": 45,
     "metadata": {},
     "output_type": "execute_result"
    }
   ],
   "source": [
    "#since LSTM are sensitive to the scale of the data, so we apply MinMax Scaler to transform values between 0 and 1\n",
    "scale = MinMaxScaler(feature_range=(0,1))\n",
    "close_sort = scale.fit_transform(np.array(close_sort).reshape(-1,1))\n",
    "close_sort"
   ]
  },
  {
   "cell_type": "markdown",
   "metadata": {},
   "source": [
    "#### Testing and Training"
   ]
  },
  {
   "cell_type": "code",
   "execution_count": 46,
   "metadata": {},
   "outputs": [],
   "source": [
    "train_size = int(len(close_sort)*0.7)\n",
    "test_size= len(close_sort) - train_size\n",
    "train_data,test_data = close_sort[0:train_size,:],close_sort[train_size:len(close_sort),:1]"
   ]
  },
  {
   "cell_type": "code",
   "execution_count": 47,
   "metadata": {},
   "outputs": [
    {
     "data": {
      "text/plain": [
       "array([[0.00224754],\n",
       "       [0.00301848],\n",
       "       [0.00306134],\n",
       "       ...,\n",
       "       [0.27351187],\n",
       "       [0.2740813 ],\n",
       "       [0.28227684]])"
      ]
     },
     "execution_count": 47,
     "metadata": {},
     "output_type": "execute_result"
    }
   ],
   "source": [
    "train_data"
   ]
  },
  {
   "cell_type": "code",
   "execution_count": 48,
   "metadata": {},
   "outputs": [
    {
     "data": {
      "text/plain": [
       "array([[0.28562931],\n",
       "       [0.29597451],\n",
       "       [0.29225739],\n",
       "       ...,\n",
       "       [0.77944266],\n",
       "       [0.77434998],\n",
       "       [0.78056864]])"
      ]
     },
     "execution_count": 48,
     "metadata": {},
     "output_type": "execute_result"
    }
   ],
   "source": [
    "test_data"
   ]
  },
  {
   "cell_type": "code",
   "execution_count": 49,
   "metadata": {},
   "outputs": [
    {
     "data": {
      "text/plain": [
       "(3140, 1)"
      ]
     },
     "execution_count": 49,
     "metadata": {},
     "output_type": "execute_result"
    }
   ],
   "source": [
    "train_data.shape"
   ]
  },
  {
   "cell_type": "code",
   "execution_count": 50,
   "metadata": {},
   "outputs": [
    {
     "data": {
      "text/plain": [
       "(1346, 1)"
      ]
     },
     "execution_count": 50,
     "metadata": {},
     "output_type": "execute_result"
    }
   ],
   "source": [
    "test_data.shape"
   ]
  },
  {
   "cell_type": "markdown",
   "metadata": {},
   "source": [
    "#### converting array of values to a dataset matrix"
   ]
  },
  {
   "cell_type": "code",
   "execution_count": 51,
   "metadata": {},
   "outputs": [],
   "source": [
    "def matrix_conversion(dataset,time_step=1):\n",
    "    dataX,dataY=[],[]\n",
    "    for i in range(len(dataset)-time_step-1):\n",
    "        a=dataset[i:(i+time_step),0]\n",
    "        dataX.append(a)\n",
    "        dataY.append(dataset[i+time_step,0])\n",
    "    return np.array(dataX),np.array(dataY)"
   ]
  },
  {
   "cell_type": "markdown",
   "metadata": {},
   "source": [
    "#### Reshaping the dataset"
   ]
  },
  {
   "cell_type": "code",
   "execution_count": 52,
   "metadata": {},
   "outputs": [],
   "source": [
    "time_step = 100\n",
    "X_train,y_train = matrix_conversion(train_data,time_step)\n",
    "X_test,y_test = matrix_conversion(test_data,time_step)"
   ]
  },
  {
   "cell_type": "code",
   "execution_count": 53,
   "metadata": {},
   "outputs": [
    {
     "data": {
      "text/plain": [
       "(3039, 100)"
      ]
     },
     "execution_count": 53,
     "metadata": {},
     "output_type": "execute_result"
    }
   ],
   "source": [
    "X_train.shape"
   ]
  },
  {
   "cell_type": "code",
   "execution_count": 54,
   "metadata": {},
   "outputs": [
    {
     "data": {
      "text/plain": [
       "(3039,)"
      ]
     },
     "execution_count": 54,
     "metadata": {},
     "output_type": "execute_result"
    }
   ],
   "source": [
    "y_train.shape"
   ]
  },
  {
   "cell_type": "code",
   "execution_count": 55,
   "metadata": {},
   "outputs": [
    {
     "data": {
      "text/plain": [
       "(1245, 100)"
      ]
     },
     "execution_count": 55,
     "metadata": {},
     "output_type": "execute_result"
    }
   ],
   "source": [
    "X_test.shape"
   ]
  },
  {
   "cell_type": "code",
   "execution_count": 56,
   "metadata": {},
   "outputs": [
    {
     "data": {
      "text/plain": [
       "(1245,)"
      ]
     },
     "execution_count": 56,
     "metadata": {},
     "output_type": "execute_result"
    }
   ],
   "source": [
    "y_test.shape"
   ]
  },
  {
   "cell_type": "code",
   "execution_count": 57,
   "metadata": {},
   "outputs": [],
   "source": [
    "X_train = X_train.reshape(X_train.shape[0],X_train.shape[1],1)\n",
    "X_test = X_test.reshape(X_test.shape[0],X_test.shape[1],1)"
   ]
  },
  {
   "cell_type": "code",
   "execution_count": 60,
   "metadata": {},
   "outputs": [
    {
     "data": {
      "text/plain": [
       "array([[[0.00224754],\n",
       "        [0.00301848],\n",
       "        [0.00306134],\n",
       "        ...,\n",
       "        [0.01297664],\n",
       "        [0.01281157],\n",
       "        [0.01292353]],\n",
       "\n",
       "       [[0.00301848],\n",
       "        [0.00306134],\n",
       "        [0.00305494],\n",
       "        ...,\n",
       "        [0.01281157],\n",
       "        [0.01292353],\n",
       "        [0.01186342]],\n",
       "\n",
       "       [[0.00306134],\n",
       "        [0.00305494],\n",
       "        [0.0032392 ],\n",
       "        ...,\n",
       "        [0.01292353],\n",
       "        [0.01186342],\n",
       "        [0.01188261]],\n",
       "\n",
       "       ...,\n",
       "\n",
       "       [[0.25392826],\n",
       "        [0.26054357],\n",
       "        [0.26353132],\n",
       "        ...,\n",
       "        [0.27118308],\n",
       "        [0.27247544],\n",
       "        [0.26990352]],\n",
       "\n",
       "       [[0.26054357],\n",
       "        [0.26353132],\n",
       "        [0.26433104],\n",
       "        ...,\n",
       "        [0.27247544],\n",
       "        [0.26990352],\n",
       "        [0.27207877]],\n",
       "\n",
       "       [[0.26353132],\n",
       "        [0.26433104],\n",
       "        [0.27078003],\n",
       "        ...,\n",
       "        [0.26990352],\n",
       "        [0.27207877],\n",
       "        [0.27351187]]])"
      ]
     },
     "execution_count": 60,
     "metadata": {},
     "output_type": "execute_result"
    }
   ],
   "source": [
    "X_train"
   ]
  },
  {
   "cell_type": "code",
   "execution_count": 61,
   "metadata": {},
   "outputs": [
    {
     "data": {
      "text/plain": [
       "array([[[0.28562931],\n",
       "        [0.29597451],\n",
       "        [0.29225739],\n",
       "        ...,\n",
       "        [0.28233444],\n",
       "        [0.28451607],\n",
       "        [0.28546936]],\n",
       "\n",
       "       [[0.29597451],\n",
       "        [0.29225739],\n",
       "        [0.29535395],\n",
       "        ...,\n",
       "        [0.28451607],\n",
       "        [0.28546936],\n",
       "        [0.28612832]],\n",
       "\n",
       "       [[0.29225739],\n",
       "        [0.29535395],\n",
       "        [0.29411915],\n",
       "        ...,\n",
       "        [0.28546936],\n",
       "        [0.28612832],\n",
       "        [0.29138732]],\n",
       "\n",
       "       ...,\n",
       "\n",
       "       [[0.79726687],\n",
       "        [0.80605746],\n",
       "        [0.83521857],\n",
       "        ...,\n",
       "        [0.76456136],\n",
       "        [0.76778587],\n",
       "        [0.77621815]],\n",
       "\n",
       "       [[0.80605746],\n",
       "        [0.83521857],\n",
       "        [0.83242916],\n",
       "        ...,\n",
       "        [0.76778587],\n",
       "        [0.77621815],\n",
       "        [0.7703706 ]],\n",
       "\n",
       "       [[0.83521857],\n",
       "        [0.83242916],\n",
       "        [0.83008753],\n",
       "        ...,\n",
       "        [0.77621815],\n",
       "        [0.7703706 ],\n",
       "        [0.77944266]]])"
      ]
     },
     "execution_count": 61,
     "metadata": {},
     "output_type": "execute_result"
    }
   ],
   "source": [
    "X_test"
   ]
  },
  {
   "cell_type": "markdown",
   "metadata": {},
   "source": [
    "#### Creating the LSTM model"
   ]
  },
  {
   "cell_type": "code",
   "execution_count": 63,
   "metadata": {},
   "outputs": [],
   "source": [
    "from tensorflow.keras.models import Sequential\n",
    "from tensorflow.keras.layers import Dense\n",
    "from tensorflow.keras.layers import LSTM\n"
   ]
  },
  {
   "cell_type": "code",
   "execution_count": 64,
   "metadata": {},
   "outputs": [],
   "source": [
    "# creating LSTM model\n",
    "model = Sequential()\n",
    "model.add(LSTM(50,return_sequences=True,input_shape=(100,1)))\n",
    "model.add(LSTM(50,return_sequences=True))\n",
    "model.add(LSTM(50))\n",
    "model.add(Dense(1))\n",
    "model.compile(loss='mean_squared_error',optimizer='adam')"
   ]
  },
  {
   "cell_type": "code",
   "execution_count": 65,
   "metadata": {},
   "outputs": [
    {
     "name": "stdout",
     "output_type": "stream",
     "text": [
      "Model: \"sequential\"\n",
      "_________________________________________________________________\n",
      " Layer (type)                Output Shape              Param #   \n",
      "=================================================================\n",
      " lstm (LSTM)                 (None, 100, 50)           10400     \n",
      "                                                                 \n",
      " lstm_1 (LSTM)               (None, 100, 50)           20200     \n",
      "                                                                 \n",
      " lstm_2 (LSTM)               (None, 50)                20200     \n",
      "                                                                 \n",
      " dense (Dense)               (None, 1)                 51        \n",
      "                                                                 \n",
      "=================================================================\n",
      "Total params: 50851 (198.64 KB)\n",
      "Trainable params: 50851 (198.64 KB)\n",
      "Non-trainable params: 0 (0.00 Byte)\n",
      "_________________________________________________________________\n"
     ]
    }
   ],
   "source": [
    "model.summary()"
   ]
  },
  {
   "cell_type": "markdown",
   "metadata": {},
   "source": [
    "#### Prediction and Performance Check"
   ]
  },
  {
   "cell_type": "code",
   "execution_count": 66,
   "metadata": {},
   "outputs": [
    {
     "name": "stdout",
     "output_type": "stream",
     "text": [
      "Epoch 1/100\n",
      "43/43 [==============================] - 11s 152ms/step - loss: 0.0017 - val_loss: 7.0065e-04\n",
      "Epoch 2/100\n",
      "43/43 [==============================] - 6s 132ms/step - loss: 8.2600e-05 - val_loss: 1.5781e-04\n",
      "Epoch 3/100\n",
      "43/43 [==============================] - 6s 132ms/step - loss: 5.5072e-05 - val_loss: 1.3993e-04\n",
      "Epoch 4/100\n",
      "43/43 [==============================] - 6s 130ms/step - loss: 5.1514e-05 - val_loss: 1.5792e-04\n",
      "Epoch 5/100\n",
      "43/43 [==============================] - 6s 129ms/step - loss: 5.3848e-05 - val_loss: 1.3588e-04\n",
      "Epoch 6/100\n",
      "43/43 [==============================] - 6s 129ms/step - loss: 4.9923e-05 - val_loss: 1.5206e-04\n",
      "Epoch 7/100\n",
      "43/43 [==============================] - 6s 130ms/step - loss: 5.0483e-05 - val_loss: 1.4660e-04\n",
      "Epoch 8/100\n",
      "43/43 [==============================] - 6s 128ms/step - loss: 5.1819e-05 - val_loss: 1.2772e-04\n",
      "Epoch 9/100\n",
      "43/43 [==============================] - 5s 123ms/step - loss: 5.0378e-05 - val_loss: 1.2588e-04\n",
      "Epoch 10/100\n",
      "43/43 [==============================] - 5s 121ms/step - loss: 4.9029e-05 - val_loss: 1.2230e-04\n",
      "Epoch 11/100\n",
      "43/43 [==============================] - 5s 122ms/step - loss: 4.9073e-05 - val_loss: 1.2997e-04\n",
      "Epoch 12/100\n",
      "43/43 [==============================] - 5s 123ms/step - loss: 4.7072e-05 - val_loss: 1.1851e-04\n",
      "Epoch 13/100\n",
      "43/43 [==============================] - 5s 125ms/step - loss: 4.7100e-05 - val_loss: 1.3412e-04\n",
      "Epoch 14/100\n",
      "43/43 [==============================] - 6s 137ms/step - loss: 5.2393e-05 - val_loss: 1.6277e-04\n",
      "Epoch 15/100\n",
      "43/43 [==============================] - 6s 135ms/step - loss: 4.5824e-05 - val_loss: 1.1068e-04\n",
      "Epoch 16/100\n",
      "43/43 [==============================] - 6s 133ms/step - loss: 4.4984e-05 - val_loss: 1.0771e-04\n",
      "Epoch 17/100\n",
      "43/43 [==============================] - 6s 130ms/step - loss: 4.5259e-05 - val_loss: 1.1358e-04\n",
      "Epoch 18/100\n",
      "43/43 [==============================] - 5s 126ms/step - loss: 4.5835e-05 - val_loss: 1.3315e-04\n",
      "Epoch 19/100\n",
      "43/43 [==============================] - 5s 123ms/step - loss: 4.4063e-05 - val_loss: 1.0124e-04\n",
      "Epoch 20/100\n",
      "43/43 [==============================] - 5s 124ms/step - loss: 4.2832e-05 - val_loss: 1.5730e-04\n",
      "Epoch 21/100\n",
      "43/43 [==============================] - 6s 131ms/step - loss: 4.5164e-05 - val_loss: 9.9709e-05\n",
      "Epoch 22/100\n",
      "43/43 [==============================] - 5s 127ms/step - loss: 4.5101e-05 - val_loss: 9.4913e-05\n",
      "Epoch 23/100\n",
      "43/43 [==============================] - 5s 126ms/step - loss: 4.4121e-05 - val_loss: 1.3319e-04\n",
      "Epoch 24/100\n",
      "43/43 [==============================] - 5s 126ms/step - loss: 5.4545e-05 - val_loss: 1.4909e-04\n",
      "Epoch 25/100\n",
      "43/43 [==============================] - 6s 129ms/step - loss: 5.2048e-05 - val_loss: 2.6018e-04\n",
      "Epoch 26/100\n",
      "43/43 [==============================] - 5s 125ms/step - loss: 4.8354e-05 - val_loss: 8.7134e-05\n",
      "Epoch 27/100\n",
      "43/43 [==============================] - 6s 130ms/step - loss: 3.5708e-05 - val_loss: 8.2701e-05\n",
      "Epoch 28/100\n",
      "43/43 [==============================] - 6s 132ms/step - loss: 3.6015e-05 - val_loss: 8.5061e-05\n",
      "Epoch 29/100\n",
      "43/43 [==============================] - 6s 133ms/step - loss: 3.9653e-05 - val_loss: 8.3422e-05\n",
      "Epoch 30/100\n",
      "43/43 [==============================] - 6s 138ms/step - loss: 4.1534e-05 - val_loss: 7.6590e-05\n",
      "Epoch 31/100\n",
      "43/43 [==============================] - 6s 135ms/step - loss: 3.9396e-05 - val_loss: 1.0733e-04\n",
      "Epoch 32/100\n",
      "43/43 [==============================] - 6s 136ms/step - loss: 3.6259e-05 - val_loss: 7.8986e-05\n",
      "Epoch 33/100\n",
      "43/43 [==============================] - 6s 136ms/step - loss: 4.5093e-05 - val_loss: 7.1884e-05\n",
      "Epoch 34/100\n",
      "43/43 [==============================] - 6s 136ms/step - loss: 3.3263e-05 - val_loss: 9.2488e-05\n",
      "Epoch 35/100\n",
      "43/43 [==============================] - 6s 137ms/step - loss: 3.8328e-05 - val_loss: 6.8097e-05\n",
      "Epoch 36/100\n",
      "43/43 [==============================] - 6s 144ms/step - loss: 3.1151e-05 - val_loss: 7.8688e-05\n",
      "Epoch 37/100\n",
      "43/43 [==============================] - 6s 150ms/step - loss: 3.0921e-05 - val_loss: 6.5461e-05\n",
      "Epoch 38/100\n",
      "43/43 [==============================] - 7s 153ms/step - loss: 3.3836e-05 - val_loss: 6.5631e-05\n",
      "Epoch 39/100\n",
      "43/43 [==============================] - 6s 148ms/step - loss: 2.8836e-05 - val_loss: 6.3728e-05\n",
      "Epoch 40/100\n",
      "43/43 [==============================] - 7s 161ms/step - loss: 2.9764e-05 - val_loss: 9.0952e-05\n",
      "Epoch 41/100\n",
      "43/43 [==============================] - 6s 138ms/step - loss: 2.9749e-05 - val_loss: 6.2854e-05\n",
      "Epoch 42/100\n",
      "43/43 [==============================] - 6s 144ms/step - loss: 3.3277e-05 - val_loss: 6.5112e-05\n",
      "Epoch 43/100\n",
      "43/43 [==============================] - 6s 149ms/step - loss: 2.5563e-05 - val_loss: 5.9708e-05\n",
      "Epoch 44/100\n",
      "43/43 [==============================] - 6s 148ms/step - loss: 2.7187e-05 - val_loss: 1.0258e-04\n",
      "Epoch 45/100\n",
      "43/43 [==============================] - 6s 144ms/step - loss: 3.2896e-05 - val_loss: 7.9598e-05\n",
      "Epoch 46/100\n",
      "43/43 [==============================] - 6s 137ms/step - loss: 2.8260e-05 - val_loss: 7.4521e-05\n",
      "Epoch 47/100\n",
      "43/43 [==============================] - 6s 146ms/step - loss: 2.6101e-05 - val_loss: 5.8562e-05\n",
      "Epoch 48/100\n",
      "43/43 [==============================] - 6s 142ms/step - loss: 2.9327e-05 - val_loss: 9.9850e-05\n",
      "Epoch 49/100\n",
      "43/43 [==============================] - 6s 141ms/step - loss: 3.3722e-05 - val_loss: 5.8350e-05\n",
      "Epoch 50/100\n",
      "43/43 [==============================] - 6s 147ms/step - loss: 2.3330e-05 - val_loss: 7.0517e-05\n",
      "Epoch 51/100\n",
      "43/43 [==============================] - 6s 143ms/step - loss: 2.7444e-05 - val_loss: 5.5114e-05\n",
      "Epoch 52/100\n",
      "43/43 [==============================] - 6s 144ms/step - loss: 2.3755e-05 - val_loss: 5.4620e-05\n",
      "Epoch 53/100\n",
      "43/43 [==============================] - 6s 145ms/step - loss: 2.5044e-05 - val_loss: 5.2075e-05\n",
      "Epoch 54/100\n",
      "43/43 [==============================] - 6s 145ms/step - loss: 2.1077e-05 - val_loss: 5.0971e-05\n",
      "Epoch 55/100\n",
      "43/43 [==============================] - 6s 147ms/step - loss: 2.1043e-05 - val_loss: 5.7917e-05\n",
      "Epoch 56/100\n",
      "43/43 [==============================] - 6s 137ms/step - loss: 2.2319e-05 - val_loss: 5.0984e-05\n",
      "Epoch 57/100\n",
      "43/43 [==============================] - 6s 136ms/step - loss: 2.1360e-05 - val_loss: 4.7995e-05\n",
      "Epoch 58/100\n",
      "43/43 [==============================] - 6s 136ms/step - loss: 2.2344e-05 - val_loss: 6.1592e-05\n",
      "Epoch 59/100\n",
      "43/43 [==============================] - 7s 153ms/step - loss: 2.1447e-05 - val_loss: 4.7615e-05\n",
      "Epoch 60/100\n",
      "43/43 [==============================] - 6s 150ms/step - loss: 2.4238e-05 - val_loss: 1.3984e-04\n",
      "Epoch 61/100\n",
      "43/43 [==============================] - 6s 129ms/step - loss: 2.4096e-05 - val_loss: 5.3393e-05\n",
      "Epoch 62/100\n",
      "43/43 [==============================] - 6s 138ms/step - loss: 2.2220e-05 - val_loss: 5.6872e-05\n",
      "Epoch 63/100\n",
      "43/43 [==============================] - 6s 129ms/step - loss: 1.8409e-05 - val_loss: 4.2809e-05\n",
      "Epoch 64/100\n",
      "43/43 [==============================] - 6s 129ms/step - loss: 2.0359e-05 - val_loss: 4.2053e-05\n",
      "Epoch 65/100\n",
      "43/43 [==============================] - 6s 142ms/step - loss: 1.9703e-05 - val_loss: 4.8432e-05\n",
      "Epoch 66/100\n",
      "43/43 [==============================] - 6s 139ms/step - loss: 2.2699e-05 - val_loss: 3.9458e-05\n",
      "Epoch 67/100\n",
      "43/43 [==============================] - 6s 133ms/step - loss: 2.0223e-05 - val_loss: 8.8538e-05\n",
      "Epoch 68/100\n",
      "43/43 [==============================] - 5s 126ms/step - loss: 1.8595e-05 - val_loss: 4.6590e-05\n",
      "Epoch 69/100\n",
      "43/43 [==============================] - 5s 125ms/step - loss: 2.0311e-05 - val_loss: 5.8258e-05\n",
      "Epoch 70/100\n",
      "43/43 [==============================] - 6s 134ms/step - loss: 2.1137e-05 - val_loss: 4.4235e-05\n",
      "Epoch 71/100\n",
      "43/43 [==============================] - 6s 138ms/step - loss: 1.6159e-05 - val_loss: 3.7875e-05\n",
      "Epoch 72/100\n",
      "43/43 [==============================] - 6s 143ms/step - loss: 1.7240e-05 - val_loss: 5.0165e-05\n",
      "Epoch 73/100\n",
      "43/43 [==============================] - 6s 136ms/step - loss: 1.6089e-05 - val_loss: 3.3446e-05\n",
      "Epoch 74/100\n",
      "43/43 [==============================] - 6s 137ms/step - loss: 1.5502e-05 - val_loss: 3.4282e-05\n",
      "Epoch 75/100\n",
      "43/43 [==============================] - 6s 127ms/step - loss: 1.5645e-05 - val_loss: 1.1342e-04\n",
      "Epoch 76/100\n",
      "43/43 [==============================] - 6s 131ms/step - loss: 2.0849e-05 - val_loss: 6.9981e-05\n",
      "Epoch 77/100\n",
      "43/43 [==============================] - 5s 126ms/step - loss: 1.6222e-05 - val_loss: 1.0006e-04\n",
      "Epoch 78/100\n",
      "43/43 [==============================] - 6s 133ms/step - loss: 1.9194e-05 - val_loss: 4.5988e-05\n",
      "Epoch 79/100\n",
      "43/43 [==============================] - 6s 138ms/step - loss: 1.4999e-05 - val_loss: 6.6040e-05\n",
      "Epoch 80/100\n",
      "43/43 [==============================] - 6s 132ms/step - loss: 1.4762e-05 - val_loss: 5.1268e-05\n",
      "Epoch 81/100\n",
      "43/43 [==============================] - 6s 135ms/step - loss: 1.6349e-05 - val_loss: 2.9761e-05\n",
      "Epoch 82/100\n",
      "43/43 [==============================] - 6s 132ms/step - loss: 1.4441e-05 - val_loss: 3.5723e-05\n",
      "Epoch 83/100\n",
      "43/43 [==============================] - 6s 134ms/step - loss: 1.5174e-05 - val_loss: 3.2299e-05\n",
      "Epoch 84/100\n",
      "43/43 [==============================] - 6s 132ms/step - loss: 1.3139e-05 - val_loss: 2.6902e-05\n",
      "Epoch 85/100\n",
      "43/43 [==============================] - 6s 132ms/step - loss: 1.3889e-05 - val_loss: 2.9623e-05\n",
      "Epoch 86/100\n",
      "43/43 [==============================] - 6s 133ms/step - loss: 1.5197e-05 - val_loss: 5.4378e-05\n",
      "Epoch 87/100\n",
      "43/43 [==============================] - 6s 133ms/step - loss: 1.3553e-05 - val_loss: 3.1345e-05\n",
      "Epoch 88/100\n",
      "43/43 [==============================] - 6s 131ms/step - loss: 1.3875e-05 - val_loss: 2.6079e-05\n",
      "Epoch 89/100\n",
      "43/43 [==============================] - 6s 131ms/step - loss: 1.2826e-05 - val_loss: 2.4875e-05\n",
      "Epoch 90/100\n",
      "43/43 [==============================] - 6s 135ms/step - loss: 1.2454e-05 - val_loss: 3.7023e-05\n",
      "Epoch 91/100\n",
      "43/43 [==============================] - 6s 131ms/step - loss: 1.2235e-05 - val_loss: 3.1017e-05\n",
      "Epoch 92/100\n",
      "43/43 [==============================] - 6s 135ms/step - loss: 1.3276e-05 - val_loss: 2.3761e-05\n",
      "Epoch 93/100\n",
      "43/43 [==============================] - 6s 133ms/step - loss: 1.2497e-05 - val_loss: 2.3573e-05\n",
      "Epoch 94/100\n",
      "43/43 [==============================] - 6s 136ms/step - loss: 1.3669e-05 - val_loss: 3.5558e-05\n",
      "Epoch 95/100\n",
      "43/43 [==============================] - 6s 132ms/step - loss: 1.2345e-05 - val_loss: 2.8034e-05\n",
      "Epoch 96/100\n",
      "43/43 [==============================] - 6s 135ms/step - loss: 1.5267e-05 - val_loss: 2.3403e-05\n",
      "Epoch 97/100\n",
      "43/43 [==============================] - 6s 137ms/step - loss: 1.2435e-05 - val_loss: 2.7147e-05\n",
      "Epoch 98/100\n",
      "43/43 [==============================] - 6s 134ms/step - loss: 1.3041e-05 - val_loss: 2.3919e-05\n",
      "Epoch 99/100\n",
      "43/43 [==============================] - 6s 138ms/step - loss: 1.2082e-05 - val_loss: 2.2764e-05\n",
      "Epoch 100/100\n",
      "43/43 [==============================] - 6s 136ms/step - loss: 1.1248e-05 - val_loss: 3.8398e-05\n"
     ]
    },
    {
     "data": {
      "text/plain": [
       "<keras.src.callbacks.History at 0x275d919a710>"
      ]
     },
     "execution_count": 66,
     "metadata": {},
     "output_type": "execute_result"
    }
   ],
   "source": [
    "model.fit(X_train, y_train,validation_split=0.1,epochs=100,batch_size=64,verbose=1)"
   ]
  },
  {
   "cell_type": "code",
   "execution_count": 67,
   "metadata": {},
   "outputs": [
    {
     "name": "stdout",
     "output_type": "stream",
     "text": [
      "95/95 [==============================] - 4s 28ms/step\n",
      "39/39 [==============================] - 1s 26ms/step\n"
     ]
    }
   ],
   "source": [
    "train_predict = model.predict(X_train)\n",
    "test_predict = model.predict(X_test)"
   ]
  },
  {
   "cell_type": "code",
   "execution_count": 68,
   "metadata": {},
   "outputs": [],
   "source": [
    "train_predict = scale.inverse_transform(train_predict)\n",
    "test_predict = scale.inverse_transform(test_predict)"
   ]
  },
  {
   "cell_type": "markdown",
   "metadata": {},
   "source": [
    "#### Performace Calculation"
   ]
  },
  {
   "cell_type": "code",
   "execution_count": 69,
   "metadata": {},
   "outputs": [
    {
     "data": {
      "text/plain": [
       "736.4256638050169"
      ]
     },
     "execution_count": 69,
     "metadata": {},
     "output_type": "execute_result"
    }
   ],
   "source": [
    "import math\n",
    "from sklearn.metrics import mean_squared_error\n",
    "math.sqrt(mean_squared_error(y_train,train_predict))"
   ]
  },
  {
   "cell_type": "code",
   "execution_count": 70,
   "metadata": {},
   "outputs": [
    {
     "data": {
      "text/plain": [
       "2490.757319020962"
      ]
     },
     "execution_count": 70,
     "metadata": {},
     "output_type": "execute_result"
    }
   ],
   "source": [
    "math.sqrt(mean_squared_error(y_test,test_predict))"
   ]
  },
  {
   "cell_type": "markdown",
   "metadata": {},
   "source": [
    "#### Plotting graph with predicted train data and test data with actual data"
   ]
  },
  {
   "cell_type": "code",
   "execution_count": 71,
   "metadata": {},
   "outputs": [
    {
     "data": {
      "image/png": "[encoded data removed]",
      "text/plain": [
       "<Figure size 1000x700 with 1 Axes>"
      ]
     },
     "metadata": {},
     "output_type": "display_data"
    }
   ],
   "source": [
    "look_back=100\n",
    "#shift train predictions for plotting\n",
    "trainPredictPlot = np.empty_like(close_sort)\n",
    "trainPredictPlot[:,:] = np.nan\n",
    "trainPredictPlot[look_back:len(train_predict)+look_back,:] = train_predict\n",
    "#plot the prediction\n",
    "testPredictPlot = np.empty_like(close_sort)\n",
    "testPredictPlot[:,:] = np.nan\n",
    "testPredictPlot[len(train_predict)+(look_back*2)+1:len(close_sort)-1,:] = test_predict\n",
    "#BASELINE AND PREDICTION\n",
    "plt.figure(figsize=(10,7))\n",
    "plt.plot(scale.inverse_transform(close_sort))\n",
    "plt.plot(trainPredictPlot)\n",
    "plt.plot(testPredictPlot)\n",
    "plt.show()"
   ]
  },
  {
   "cell_type": "markdown",
   "metadata": {},
   "source": [
    "#### Prediction for next 30 days"
   ]
  },
  {
   "cell_type": "code",
   "execution_count": 73,
   "metadata": {},
   "outputs": [
    {
     "data": {
      "text/plain": [
       "1346"
      ]
     },
     "execution_count": 73,
     "metadata": {},
     "output_type": "execute_result"
    }
   ],
   "source": [
    "len(test_data)\n"
   ]
  },
  {
   "cell_type": "code",
   "execution_count": 102,
   "metadata": {},
   "outputs": [
    {
     "data": {
      "text/plain": [
       "(1, 100)"
      ]
     },
     "execution_count": 102,
     "metadata": {},
     "output_type": "execute_result"
    }
   ],
   "source": [
    "#pred_input\n",
    "x_input=test_data[1246:].reshape(1,-1)\n",
    "x_input.shape"
   ]
  },
  {
   "cell_type": "code",
   "execution_count": 103,
   "metadata": {},
   "outputs": [],
   "source": [
    "#temp_input\n",
    "temp_input=list(x_input)\n",
    "temp_input=temp_input[0].tolist()"
   ]
  },
  {
   "cell_type": "code",
   "execution_count": 104,
   "metadata": {},
   "outputs": [
    {
     "data": {
      "text/plain": [
       "[0.8300875299004096,\n",
       " 0.8474383464508324,\n",
       " 0.8518272046869044,\n",
       " 0.8494728308416306,\n",
       " 0.8320068666272631,\n",
       " 0.8426143883980073,\n",
       " 0.8484876089408456,\n",
       " 0.8312903017095712,\n",
       " 0.7953859594978968,\n",
       " 0.7930699473078269,\n",
       " 0.7919823231626099,\n",
       " 0.7755271970847187,\n",
       " 0.7619382679792622,\n",
       " 0.7679521897234034,\n",
       " 0.7934281984175063,\n",
       " 0.7962432256168916,\n",
       " 0.8182132584296087,\n",
       " 0.8141954594210618,\n",
       " 0.8197231115754002,\n",
       " 0.8206059939300864,\n",
       " 0.8135300642764194,\n",
       " 0.8075417587679694,\n",
       " 0.8198255138198323,\n",
       " 0.7993397806155486,\n",
       " 0.7945414387984147,\n",
       " 0.8059166952599002,\n",
       " 0.8128519237122643,\n",
       " 0.8071194670690618,\n",
       " 0.7683105035314158,\n",
       " 0.7608634519518908,\n",
       " 0.7491043281450346,\n",
       " 0.7388678656018155,\n",
       " 0.7378058576922897,\n",
       " 0.7554381393436513,\n",
       " 0.7581891886521415,\n",
       " 0.7813619932740201,\n",
       " 0.7845608878187761,\n",
       " 0.7829486324285525,\n",
       " 0.7818610082833355,\n",
       " 0.7688478801959351,\n",
       " 0.7875166789177972,\n",
       " 0.8058527173690051,\n",
       " 0.8164474310219035,\n",
       " 0.8156541427938039,\n",
       " 0.8138627618487406,\n",
       " 0.8260697308918626,\n",
       " 0.8300235520095144,\n",
       " 0.8326082838810105,\n",
       " 0.8350138274993337,\n",
       " 0.8298444264546747,\n",
       " 0.8473103906690422,\n",
       " 0.8419490559516978,\n",
       " 0.8396842135346774,\n",
       " 0.8418339082877532,\n",
       " 0.8367540386713476,\n",
       " 0.8379056407074597,\n",
       " 0.8299212124634154,\n",
       " 0.8120202111306277,\n",
       " 0.8045347978958989,\n",
       " 0.7950276456898844,\n",
       " 0.7960512919442062,\n",
       " 0.7731088453485497,\n",
       " 0.7932234566269754,\n",
       " 0.7728912954401732,\n",
       " 0.772558597867852,\n",
       " 0.7733263325585934,\n",
       " 0.7717013317488571,\n",
       " 0.7774721500472636,\n",
       " 0.7826031267383856,\n",
       " 0.7948868817902485,\n",
       " 0.8013614568885011,\n",
       " 0.7978810972428064,\n",
       " 0.7699994822320472,\n",
       " 0.765892151795247,\n",
       " 0.7414141731197746,\n",
       " 0.7465580206270754,\n",
       " 0.7495010036082509,\n",
       " 0.739494836392921,\n",
       " 0.7410814755474534,\n",
       " 0.7345941550296882,\n",
       " 0.7377546252209072,\n",
       " 0.7436533993011039,\n",
       " 0.7483109772186018,\n",
       " 0.7384968063742904,\n",
       " 0.7403521652102488,\n",
       " 0.7353362734847383,\n",
       " 0.7625140689973183,\n",
       " 0.765277926423654,\n",
       " 0.7557963904533308,\n",
       " 0.7695260834584231,\n",
       " 0.7569864168429798,\n",
       " 0.7649708450870241,\n",
       " 0.7656234321138209,\n",
       " 0.7645613615059621,\n",
       " 0.7677858722864093,\n",
       " 0.7762181457667193,\n",
       " 0.7703706041579053,\n",
       " 0.7794426565471666,\n",
       " 0.7743499788129153,\n",
       " 0.7805686423475875]"
      ]
     },
     "execution_count": 104,
     "metadata": {},
     "output_type": "execute_result"
    }
   ],
   "source": [
    "temp_input"
   ]
  },
  {
   "cell_type": "code",
   "execution_count": 105,
   "metadata": {},
   "outputs": [
    {
     "name": "stdout",
     "output_type": "stream",
     "text": [
      "[0.7408876]\n",
      "101\n",
      "1 day input [0.84743835 0.8518272  0.84947283 0.83200687 0.84261439 0.84848761\n",
      " 0.8312903  0.79538596 0.79306995 0.79198232 0.7755272  0.76193827\n",
      " 0.76795219 0.7934282  0.79624323 0.81821326 0.81419546 0.81972311\n",
      " 0.82060599 0.81353006 0.80754176 0.81982551 0.79933978 0.79454144\n",
      " 0.8059167  0.81285192 0.80711947 0.7683105  0.76086345 0.74910433\n",
      " 0.73886787 0.73780586 0.75543814 0.75818919 0.78136199 0.78456089\n",
      " 0.78294863 0.78186101 0.76884788 0.78751668 0.80585272 0.81644743\n",
      " 0.81565414 0.81386276 0.82606973 0.83002355 0.83260828 0.83501383\n",
      " 0.82984443 0.84731039 0.84194906 0.83968421 0.84183391 0.83675404\n",
      " 0.83790564 0.82992121 0.81202021 0.8045348  0.79502765 0.79605129\n",
      " 0.77310885 0.79322346 0.7728913  0.7725586  0.77332633 0.77170133\n",
      " 0.77747215 0.78260313 0.79488688 0.80136146 0.7978811  0.76999948\n",
      " 0.76589215 0.74141417 0.74655802 0.749501   0.73949484 0.74108148\n",
      " 0.73459416 0.73775463 0.7436534  0.74831098 0.73849681 0.74035217\n",
      " 0.73533627 0.76251407 0.76527793 0.75579639 0.76952608 0.75698642\n",
      " 0.76497085 0.76562343 0.76456136 0.76778587 0.77621815 0.7703706\n",
      " 0.77944266 0.77434998 0.78056864 0.74088758]\n",
      "1 day output [[0.7049893]]\n",
      "Size of x_input: 100\n",
      "2 day input [0.8518272  0.84947283 0.83200687 0.84261439 0.84848761 0.8312903\n",
      " 0.79538596 0.79306995 0.79198232 0.7755272  0.76193827 0.76795219\n",
      " 0.7934282  0.79624323 0.81821326 0.81419546 0.81972311 0.82060599\n",
      " 0.81353006 0.80754176 0.81982551 0.79933978 0.79454144 0.8059167\n",
      " 0.81285192 0.80711947 0.7683105  0.76086345 0.74910433 0.73886787\n",
      " 0.73780586 0.75543814 0.75818919 0.78136199 0.78456089 0.78294863\n",
      " 0.78186101 0.76884788 0.78751668 0.80585272 0.81644743 0.81565414\n",
      " 0.81386276 0.82606973 0.83002355 0.83260828 0.83501383 0.82984443\n",
      " 0.84731039 0.84194906 0.83968421 0.84183391 0.83675404 0.83790564\n",
      " 0.82992121 0.81202021 0.8045348  0.79502765 0.79605129 0.77310885\n",
      " 0.79322346 0.7728913  0.7725586  0.77332633 0.77170133 0.77747215\n",
      " 0.78260313 0.79488688 0.80136146 0.7978811  0.76999948 0.76589215\n",
      " 0.74141417 0.74655802 0.749501   0.73949484 0.74108148 0.73459416\n",
      " 0.73775463 0.7436534  0.74831098 0.73849681 0.74035217 0.73533627\n",
      " 0.76251407 0.76527793 0.75579639 0.76952608 0.75698642 0.76497085\n",
      " 0.76562343 0.76456136 0.76778587 0.77621815 0.7703706  0.77944266\n",
      " 0.77434998 0.78056864 0.74088758 0.70498931]\n",
      "2 day output [[0.66164696]]\n",
      "Size of x_input: 100\n",
      "3 day input [0.84947283 0.83200687 0.84261439 0.84848761 0.8312903  0.79538596\n",
      " 0.79306995 0.79198232 0.7755272  0.76193827 0.76795219 0.7934282\n",
      " 0.79624323 0.81821326 0.81419546 0.81972311 0.82060599 0.81353006\n",
      " 0.80754176 0.81982551 0.79933978 0.79454144 0.8059167  0.81285192\n",
      " 0.80711947 0.7683105  0.76086345 0.74910433 0.73886787 0.73780586\n",
      " 0.75543814 0.75818919 0.78136199 0.78456089 0.78294863 0.78186101\n",
      " 0.76884788 0.78751668 0.80585272 0.81644743 0.81565414 0.81386276\n",
      " 0.82606973 0.83002355 0.83260828 0.83501383 0.82984443 0.84731039\n",
      " 0.84194906 0.83968421 0.84183391 0.83675404 0.83790564 0.82992121\n",
      " 0.81202021 0.8045348  0.79502765 0.79605129 0.77310885 0.79322346\n",
      " 0.7728913  0.7725586  0.77332633 0.77170133 0.77747215 0.78260313\n",
      " 0.79488688 0.80136146 0.7978811  0.76999948 0.76589215 0.74141417\n",
      " 0.74655802 0.749501   0.73949484 0.74108148 0.73459416 0.73775463\n",
      " 0.7436534  0.74831098 0.73849681 0.74035217 0.73533627 0.76251407\n",
      " 0.76527793 0.75579639 0.76952608 0.75698642 0.76497085 0.76562343\n",
      " 0.76456136 0.76778587 0.77621815 0.7703706  0.77944266 0.77434998\n",
      " 0.78056864 0.74088758 0.70498931 0.66164696]\n",
      "3 day output [[0.62766206]]\n",
      "Size of x_input: 100\n",
      "4 day input [0.83200687 0.84261439 0.84848761 0.8312903  0.79538596 0.79306995\n",
      " 0.79198232 0.7755272  0.76193827 0.76795219 0.7934282  0.79624323\n",
      " 0.81821326 0.81419546 0.81972311 0.82060599 0.81353006 0.80754176\n",
      " 0.81982551 0.79933978 0.79454144 0.8059167  0.81285192 0.80711947\n",
      " 0.7683105  0.76086345 0.74910433 0.73886787 0.73780586 0.75543814\n",
      " 0.75818919 0.78136199 0.78456089 0.78294863 0.78186101 0.76884788\n",
      " 0.78751668 0.80585272 0.81644743 0.81565414 0.81386276 0.82606973\n",
      " 0.83002355 0.83260828 0.83501383 0.82984443 0.84731039 0.84194906\n",
      " 0.83968421 0.84183391 0.83675404 0.83790564 0.82992121 0.81202021\n",
      " 0.8045348  0.79502765 0.79605129 0.77310885 0.79322346 0.7728913\n",
      " 0.7725586  0.77332633 0.77170133 0.77747215 0.78260313 0.79488688\n",
      " 0.80136146 0.7978811  0.76999948 0.76589215 0.74141417 0.74655802\n",
      " 0.749501   0.73949484 0.74108148 0.73459416 0.73775463 0.7436534\n",
      " 0.74831098 0.73849681 0.74035217 0.73533627 0.76251407 0.76527793\n",
      " 0.75579639 0.76952608 0.75698642 0.76497085 0.76562343 0.76456136\n",
      " 0.76778587 0.77621815 0.7703706  0.77944266 0.77434998 0.78056864\n",
      " 0.74088758 0.70498931 0.66164696 0.62766206]\n",
      "4 day output [[0.60080695]]\n",
      "Size of x_input: 100\n",
      "5 day input [0.84261439 0.84848761 0.8312903  0.79538596 0.79306995 0.79198232\n",
      " 0.7755272  0.76193827 0.76795219 0.7934282  0.79624323 0.81821326\n",
      " 0.81419546 0.81972311 0.82060599 0.81353006 0.80754176 0.81982551\n",
      " 0.79933978 0.79454144 0.8059167  0.81285192 0.80711947 0.7683105\n",
      " 0.76086345 0.74910433 0.73886787 0.73780586 0.75543814 0.75818919\n",
      " 0.78136199 0.78456089 0.78294863 0.78186101 0.76884788 0.78751668\n",
      " 0.80585272 0.81644743 0.81565414 0.81386276 0.82606973 0.83002355\n",
      " 0.83260828 0.83501383 0.82984443 0.84731039 0.84194906 0.83968421\n",
      " 0.84183391 0.83675404 0.83790564 0.82992121 0.81202021 0.8045348\n",
      " 0.79502765 0.79605129 0.77310885 0.79322346 0.7728913  0.7725586\n",
      " 0.77332633 0.77170133 0.77747215 0.78260313 0.79488688 0.80136146\n",
      " 0.7978811  0.76999948 0.76589215 0.74141417 0.74655802 0.749501\n",
      " 0.73949484 0.74108148 0.73459416 0.73775463 0.7436534  0.74831098\n",
      " 0.73849681 0.74035217 0.73533627 0.76251407 0.76527793 0.75579639\n",
      " 0.76952608 0.75698642 0.76497085 0.76562343 0.76456136 0.76778587\n",
      " 0.77621815 0.7703706  0.77944266 0.77434998 0.78056864 0.74088758\n",
      " 0.70498931 0.66164696 0.62766206 0.60080695]\n",
      "5 day output [[0.5780317]]\n",
      "Size of x_input: 100\n",
      "6 day input [0.84848761 0.8312903  0.79538596 0.79306995 0.79198232 0.7755272\n",
      " 0.76193827 0.76795219 0.7934282  0.79624323 0.81821326 0.81419546\n",
      " 0.81972311 0.82060599 0.81353006 0.80754176 0.81982551 0.79933978\n",
      " 0.79454144 0.8059167  0.81285192 0.80711947 0.7683105  0.76086345\n",
      " 0.74910433 0.73886787 0.73780586 0.75543814 0.75818919 0.78136199\n",
      " 0.78456089 0.78294863 0.78186101 0.76884788 0.78751668 0.80585272\n",
      " 0.81644743 0.81565414 0.81386276 0.82606973 0.83002355 0.83260828\n",
      " 0.83501383 0.82984443 0.84731039 0.84194906 0.83968421 0.84183391\n",
      " 0.83675404 0.83790564 0.82992121 0.81202021 0.8045348  0.79502765\n",
      " 0.79605129 0.77310885 0.79322346 0.7728913  0.7725586  0.77332633\n",
      " 0.77170133 0.77747215 0.78260313 0.79488688 0.80136146 0.7978811\n",
      " 0.76999948 0.76589215 0.74141417 0.74655802 0.749501   0.73949484\n",
      " 0.74108148 0.73459416 0.73775463 0.7436534  0.74831098 0.73849681\n",
      " 0.74035217 0.73533627 0.76251407 0.76527793 0.75579639 0.76952608\n",
      " 0.75698642 0.76497085 0.76562343 0.76456136 0.76778587 0.77621815\n",
      " 0.7703706  0.77944266 0.77434998 0.78056864 0.74088758 0.70498931\n",
      " 0.66164696 0.62766206 0.60080695 0.57803172]\n",
      "6 day output [[0.55915487]]\n",
      "Size of x_input: 100\n",
      "7 day input [0.8312903  0.79538596 0.79306995 0.79198232 0.7755272  0.76193827\n",
      " 0.76795219 0.7934282  0.79624323 0.81821326 0.81419546 0.81972311\n",
      " 0.82060599 0.81353006 0.80754176 0.81982551 0.79933978 0.79454144\n",
      " 0.8059167  0.81285192 0.80711947 0.7683105  0.76086345 0.74910433\n",
      " 0.73886787 0.73780586 0.75543814 0.75818919 0.78136199 0.78456089\n",
      " 0.78294863 0.78186101 0.76884788 0.78751668 0.80585272 0.81644743\n",
      " 0.81565414 0.81386276 0.82606973 0.83002355 0.83260828 0.83501383\n",
      " 0.82984443 0.84731039 0.84194906 0.83968421 0.84183391 0.83675404\n",
      " 0.83790564 0.82992121 0.81202021 0.8045348  0.79502765 0.79605129\n",
      " 0.77310885 0.79322346 0.7728913  0.7725586  0.77332633 0.77170133\n",
      " 0.77747215 0.78260313 0.79488688 0.80136146 0.7978811  0.76999948\n",
      " 0.76589215 0.74141417 0.74655802 0.749501   0.73949484 0.74108148\n",
      " 0.73459416 0.73775463 0.7436534  0.74831098 0.73849681 0.74035217\n",
      " 0.73533627 0.76251407 0.76527793 0.75579639 0.76952608 0.75698642\n",
      " 0.76497085 0.76562343 0.76456136 0.76778587 0.77621815 0.7703706\n",
      " 0.77944266 0.77434998 0.78056864 0.74088758 0.70498931 0.66164696\n",
      " 0.62766206 0.60080695 0.57803172 0.55915487]\n",
      "7 day output [[0.5441002]]\n",
      "Size of x_input: 100\n",
      "8 day input [0.79538596 0.79306995 0.79198232 0.7755272  0.76193827 0.76795219\n",
      " 0.7934282  0.79624323 0.81821326 0.81419546 0.81972311 0.82060599\n",
      " 0.81353006 0.80754176 0.81982551 0.79933978 0.79454144 0.8059167\n",
      " 0.81285192 0.80711947 0.7683105  0.76086345 0.74910433 0.73886787\n",
      " 0.73780586 0.75543814 0.75818919 0.78136199 0.78456089 0.78294863\n",
      " 0.78186101 0.76884788 0.78751668 0.80585272 0.81644743 0.81565414\n",
      " 0.81386276 0.82606973 0.83002355 0.83260828 0.83501383 0.82984443\n",
      " 0.84731039 0.84194906 0.83968421 0.84183391 0.83675404 0.83790564\n",
      " 0.82992121 0.81202021 0.8045348  0.79502765 0.79605129 0.77310885\n",
      " 0.79322346 0.7728913  0.7725586  0.77332633 0.77170133 0.77747215\n",
      " 0.78260313 0.79488688 0.80136146 0.7978811  0.76999948 0.76589215\n",
      " 0.74141417 0.74655802 0.749501   0.73949484 0.74108148 0.73459416\n",
      " 0.73775463 0.7436534  0.74831098 0.73849681 0.74035217 0.73533627\n",
      " 0.76251407 0.76527793 0.75579639 0.76952608 0.75698642 0.76497085\n",
      " 0.76562343 0.76456136 0.76778587 0.77621815 0.7703706  0.77944266\n",
      " 0.77434998 0.78056864 0.74088758 0.70498931 0.66164696 0.62766206\n",
      " 0.60080695 0.57803172 0.55915487 0.54410022]\n",
      "8 day output [[0.5321324]]\n",
      "Size of x_input: 100\n",
      "9 day input [0.79306995 0.79198232 0.7755272  0.76193827 0.76795219 0.7934282\n",
      " 0.79624323 0.81821326 0.81419546 0.81972311 0.82060599 0.81353006\n",
      " 0.80754176 0.81982551 0.79933978 0.79454144 0.8059167  0.81285192\n",
      " 0.80711947 0.7683105  0.76086345 0.74910433 0.73886787 0.73780586\n",
      " 0.75543814 0.75818919 0.78136199 0.78456089 0.78294863 0.78186101\n",
      " 0.76884788 0.78751668 0.80585272 0.81644743 0.81565414 0.81386276\n",
      " 0.82606973 0.83002355 0.83260828 0.83501383 0.82984443 0.84731039\n",
      " 0.84194906 0.83968421 0.84183391 0.83675404 0.83790564 0.82992121\n",
      " 0.81202021 0.8045348  0.79502765 0.79605129 0.77310885 0.79322346\n",
      " 0.7728913  0.7725586  0.77332633 0.77170133 0.77747215 0.78260313\n",
      " 0.79488688 0.80136146 0.7978811  0.76999948 0.76589215 0.74141417\n",
      " 0.74655802 0.749501   0.73949484 0.74108148 0.73459416 0.73775463\n",
      " 0.7436534  0.74831098 0.73849681 0.74035217 0.73533627 0.76251407\n",
      " 0.76527793 0.75579639 0.76952608 0.75698642 0.76497085 0.76562343\n",
      " 0.76456136 0.76778587 0.77621815 0.7703706  0.77944266 0.77434998\n",
      " 0.78056864 0.74088758 0.70498931 0.66164696 0.62766206 0.60080695\n",
      " 0.57803172 0.55915487 0.54410022 0.53213239]\n",
      "9 day output [[0.5224458]]\n",
      "Size of x_input: 100\n",
      "10 day input [0.79198232 0.7755272  0.76193827 0.76795219 0.7934282  0.79624323\n",
      " 0.81821326 0.81419546 0.81972311 0.82060599 0.81353006 0.80754176\n",
      " 0.81982551 0.79933978 0.79454144 0.8059167  0.81285192 0.80711947\n",
      " 0.7683105  0.76086345 0.74910433 0.73886787 0.73780586 0.75543814\n",
      " 0.75818919 0.78136199 0.78456089 0.78294863 0.78186101 0.76884788\n",
      " 0.78751668 0.80585272 0.81644743 0.81565414 0.81386276 0.82606973\n",
      " 0.83002355 0.83260828 0.83501383 0.82984443 0.84731039 0.84194906\n",
      " 0.83968421 0.84183391 0.83675404 0.83790564 0.82992121 0.81202021\n",
      " 0.8045348  0.79502765 0.79605129 0.77310885 0.79322346 0.7728913\n",
      " 0.7725586  0.77332633 0.77170133 0.77747215 0.78260313 0.79488688\n",
      " 0.80136146 0.7978811  0.76999948 0.76589215 0.74141417 0.74655802\n",
      " 0.749501   0.73949484 0.74108148 0.73459416 0.73775463 0.7436534\n",
      " 0.74831098 0.73849681 0.74035217 0.73533627 0.76251407 0.76527793\n",
      " 0.75579639 0.76952608 0.75698642 0.76497085 0.76562343 0.76456136\n",
      " 0.76778587 0.77621815 0.7703706  0.77944266 0.77434998 0.78056864\n",
      " 0.74088758 0.70498931 0.66164696 0.62766206 0.60080695 0.57803172\n",
      " 0.55915487 0.54410022 0.53213239 0.5224458 ]\n",
      "10 day output [[0.51445895]]\n",
      "Size of x_input: 100\n",
      "11 day input [0.7755272  0.76193827 0.76795219 0.7934282  0.79624323 0.81821326\n",
      " 0.81419546 0.81972311 0.82060599 0.81353006 0.80754176 0.81982551\n",
      " 0.79933978 0.79454144 0.8059167  0.81285192 0.80711947 0.7683105\n",
      " 0.76086345 0.74910433 0.73886787 0.73780586 0.75543814 0.75818919\n",
      " 0.78136199 0.78456089 0.78294863 0.78186101 0.76884788 0.78751668\n",
      " 0.80585272 0.81644743 0.81565414 0.81386276 0.82606973 0.83002355\n",
      " 0.83260828 0.83501383 0.82984443 0.84731039 0.84194906 0.83968421\n",
      " 0.84183391 0.83675404 0.83790564 0.82992121 0.81202021 0.8045348\n",
      " 0.79502765 0.79605129 0.77310885 0.79322346 0.7728913  0.7725586\n",
      " 0.77332633 0.77170133 0.77747215 0.78260313 0.79488688 0.80136146\n",
      " 0.7978811  0.76999948 0.76589215 0.74141417 0.74655802 0.749501\n",
      " 0.73949484 0.74108148 0.73459416 0.73775463 0.7436534  0.74831098\n",
      " 0.73849681 0.74035217 0.73533627 0.76251407 0.76527793 0.75579639\n",
      " 0.76952608 0.75698642 0.76497085 0.76562343 0.76456136 0.76778587\n",
      " 0.77621815 0.7703706  0.77944266 0.77434998 0.78056864 0.74088758\n",
      " 0.70498931 0.66164696 0.62766206 0.60080695 0.57803172 0.55915487\n",
      " 0.54410022 0.53213239 0.5224458  0.51445895]\n",
      "11 day output [[0.5077677]]\n",
      "Size of x_input: 100\n",
      "12 day input [0.76193827 0.76795219 0.7934282  0.79624323 0.81821326 0.81419546\n",
      " 0.81972311 0.82060599 0.81353006 0.80754176 0.81982551 0.79933978\n",
      " 0.79454144 0.8059167  0.81285192 0.80711947 0.7683105  0.76086345\n",
      " 0.74910433 0.73886787 0.73780586 0.75543814 0.75818919 0.78136199\n",
      " 0.78456089 0.78294863 0.78186101 0.76884788 0.78751668 0.80585272\n",
      " 0.81644743 0.81565414 0.81386276 0.82606973 0.83002355 0.83260828\n",
      " 0.83501383 0.82984443 0.84731039 0.84194906 0.83968421 0.84183391\n",
      " 0.83675404 0.83790564 0.82992121 0.81202021 0.8045348  0.79502765\n",
      " 0.79605129 0.77310885 0.79322346 0.7728913  0.7725586  0.77332633\n",
      " 0.77170133 0.77747215 0.78260313 0.79488688 0.80136146 0.7978811\n",
      " 0.76999948 0.76589215 0.74141417 0.74655802 0.749501   0.73949484\n",
      " 0.74108148 0.73459416 0.73775463 0.7436534  0.74831098 0.73849681\n",
      " 0.74035217 0.73533627 0.76251407 0.76527793 0.75579639 0.76952608\n",
      " 0.75698642 0.76497085 0.76562343 0.76456136 0.76778587 0.77621815\n",
      " 0.7703706  0.77944266 0.77434998 0.78056864 0.74088758 0.70498931\n",
      " 0.66164696 0.62766206 0.60080695 0.57803172 0.55915487 0.54410022\n",
      " 0.53213239 0.5224458  0.51445895 0.50776768]\n",
      "12 day output [[0.5020803]]\n",
      "Size of x_input: 100\n",
      "13 day input [0.76795219 0.7934282  0.79624323 0.81821326 0.81419546 0.81972311\n",
      " 0.82060599 0.81353006 0.80754176 0.81982551 0.79933978 0.79454144\n",
      " 0.8059167  0.81285192 0.80711947 0.7683105  0.76086345 0.74910433\n",
      " 0.73886787 0.73780586 0.75543814 0.75818919 0.78136199 0.78456089\n",
      " 0.78294863 0.78186101 0.76884788 0.78751668 0.80585272 0.81644743\n",
      " 0.81565414 0.81386276 0.82606973 0.83002355 0.83260828 0.83501383\n",
      " 0.82984443 0.84731039 0.84194906 0.83968421 0.84183391 0.83675404\n",
      " 0.83790564 0.82992121 0.81202021 0.8045348  0.79502765 0.79605129\n",
      " 0.77310885 0.79322346 0.7728913  0.7725586  0.77332633 0.77170133\n",
      " 0.77747215 0.78260313 0.79488688 0.80136146 0.7978811  0.76999948\n",
      " 0.76589215 0.74141417 0.74655802 0.749501   0.73949484 0.74108148\n",
      " 0.73459416 0.73775463 0.7436534  0.74831098 0.73849681 0.74035217\n",
      " 0.73533627 0.76251407 0.76527793 0.75579639 0.76952608 0.75698642\n",
      " 0.76497085 0.76562343 0.76456136 0.76778587 0.77621815 0.7703706\n",
      " 0.77944266 0.77434998 0.78056864 0.74088758 0.70498931 0.66164696\n",
      " 0.62766206 0.60080695 0.57803172 0.55915487 0.54410022 0.53213239\n",
      " 0.5224458  0.51445895 0.50776768 0.50208032]\n",
      "13 day output [[0.4971909]]\n",
      "Size of x_input: 100\n",
      "14 day input [0.7934282  0.79624323 0.81821326 0.81419546 0.81972311 0.82060599\n",
      " 0.81353006 0.80754176 0.81982551 0.79933978 0.79454144 0.8059167\n",
      " 0.81285192 0.80711947 0.7683105  0.76086345 0.74910433 0.73886787\n",
      " 0.73780586 0.75543814 0.75818919 0.78136199 0.78456089 0.78294863\n",
      " 0.78186101 0.76884788 0.78751668 0.80585272 0.81644743 0.81565414\n",
      " 0.81386276 0.82606973 0.83002355 0.83260828 0.83501383 0.82984443\n",
      " 0.84731039 0.84194906 0.83968421 0.84183391 0.83675404 0.83790564\n",
      " 0.82992121 0.81202021 0.8045348  0.79502765 0.79605129 0.77310885\n",
      " 0.79322346 0.7728913  0.7725586  0.77332633 0.77170133 0.77747215\n",
      " 0.78260313 0.79488688 0.80136146 0.7978811  0.76999948 0.76589215\n",
      " 0.74141417 0.74655802 0.749501   0.73949484 0.74108148 0.73459416\n",
      " 0.73775463 0.7436534  0.74831098 0.73849681 0.74035217 0.73533627\n",
      " 0.76251407 0.76527793 0.75579639 0.76952608 0.75698642 0.76497085\n",
      " 0.76562343 0.76456136 0.76778587 0.77621815 0.7703706  0.77944266\n",
      " 0.77434998 0.78056864 0.74088758 0.70498931 0.66164696 0.62766206\n",
      " 0.60080695 0.57803172 0.55915487 0.54410022 0.53213239 0.5224458\n",
      " 0.51445895 0.50776768 0.50208032 0.49719089]\n",
      "14 day output [[0.49295703]]\n",
      "Size of x_input: 100\n",
      "15 day input [0.79624323 0.81821326 0.81419546 0.81972311 0.82060599 0.81353006\n",
      " 0.80754176 0.81982551 0.79933978 0.79454144 0.8059167  0.81285192\n",
      " 0.80711947 0.7683105  0.76086345 0.74910433 0.73886787 0.73780586\n",
      " 0.75543814 0.75818919 0.78136199 0.78456089 0.78294863 0.78186101\n",
      " 0.76884788 0.78751668 0.80585272 0.81644743 0.81565414 0.81386276\n",
      " 0.82606973 0.83002355 0.83260828 0.83501383 0.82984443 0.84731039\n",
      " 0.84194906 0.83968421 0.84183391 0.83675404 0.83790564 0.82992121\n",
      " 0.81202021 0.8045348  0.79502765 0.79605129 0.77310885 0.79322346\n",
      " 0.7728913  0.7725586  0.77332633 0.77170133 0.77747215 0.78260313\n",
      " 0.79488688 0.80136146 0.7978811  0.76999948 0.76589215 0.74141417\n",
      " 0.74655802 0.749501   0.73949484 0.74108148 0.73459416 0.73775463\n",
      " 0.7436534  0.74831098 0.73849681 0.74035217 0.73533627 0.76251407\n",
      " 0.76527793 0.75579639 0.76952608 0.75698642 0.76497085 0.76562343\n",
      " 0.76456136 0.76778587 0.77621815 0.7703706  0.77944266 0.77434998\n",
      " 0.78056864 0.74088758 0.70498931 0.66164696 0.62766206 0.60080695\n",
      " 0.57803172 0.55915487 0.54410022 0.53213239 0.5224458  0.51445895\n",
      " 0.50776768 0.50208032 0.49719089 0.49295703]\n",
      "15 day output [[0.48927304]]\n",
      "Size of x_input: 100\n",
      "16 day input [0.81821326 0.81419546 0.81972311 0.82060599 0.81353006 0.80754176\n",
      " 0.81982551 0.79933978 0.79454144 0.8059167  0.81285192 0.80711947\n",
      " 0.7683105  0.76086345 0.74910433 0.73886787 0.73780586 0.75543814\n",
      " 0.75818919 0.78136199 0.78456089 0.78294863 0.78186101 0.76884788\n",
      " 0.78751668 0.80585272 0.81644743 0.81565414 0.81386276 0.82606973\n",
      " 0.83002355 0.83260828 0.83501383 0.82984443 0.84731039 0.84194906\n",
      " 0.83968421 0.84183391 0.83675404 0.83790564 0.82992121 0.81202021\n",
      " 0.8045348  0.79502765 0.79605129 0.77310885 0.79322346 0.7728913\n",
      " 0.7725586  0.77332633 0.77170133 0.77747215 0.78260313 0.79488688\n",
      " 0.80136146 0.7978811  0.76999948 0.76589215 0.74141417 0.74655802\n",
      " 0.749501   0.73949484 0.74108148 0.73459416 0.73775463 0.7436534\n",
      " 0.74831098 0.73849681 0.74035217 0.73533627 0.76251407 0.76527793\n",
      " 0.75579639 0.76952608 0.75698642 0.76497085 0.76562343 0.76456136\n",
      " 0.76778587 0.77621815 0.7703706  0.77944266 0.77434998 0.78056864\n",
      " 0.74088758 0.70498931 0.66164696 0.62766206 0.60080695 0.57803172\n",
      " 0.55915487 0.54410022 0.53213239 0.5224458  0.51445895 0.50776768\n",
      " 0.50208032 0.49719089 0.49295703 0.48927304]\n",
      "16 day output [[0.48604852]]\n",
      "Size of x_input: 100\n",
      "17 day input [0.81419546 0.81972311 0.82060599 0.81353006 0.80754176 0.81982551\n",
      " 0.79933978 0.79454144 0.8059167  0.81285192 0.80711947 0.7683105\n",
      " 0.76086345 0.74910433 0.73886787 0.73780586 0.75543814 0.75818919\n",
      " 0.78136199 0.78456089 0.78294863 0.78186101 0.76884788 0.78751668\n",
      " 0.80585272 0.81644743 0.81565414 0.81386276 0.82606973 0.83002355\n",
      " 0.83260828 0.83501383 0.82984443 0.84731039 0.84194906 0.83968421\n",
      " 0.84183391 0.83675404 0.83790564 0.82992121 0.81202021 0.8045348\n",
      " 0.79502765 0.79605129 0.77310885 0.79322346 0.7728913  0.7725586\n",
      " 0.77332633 0.77170133 0.77747215 0.78260313 0.79488688 0.80136146\n",
      " 0.7978811  0.76999948 0.76589215 0.74141417 0.74655802 0.749501\n",
      " 0.73949484 0.74108148 0.73459416 0.73775463 0.7436534  0.74831098\n",
      " 0.73849681 0.74035217 0.73533627 0.76251407 0.76527793 0.75579639\n",
      " 0.76952608 0.75698642 0.76497085 0.76562343 0.76456136 0.76778587\n",
      " 0.77621815 0.7703706  0.77944266 0.77434998 0.78056864 0.74088758\n",
      " 0.70498931 0.66164696 0.62766206 0.60080695 0.57803172 0.55915487\n",
      " 0.54410022 0.53213239 0.5224458  0.51445895 0.50776768 0.50208032\n",
      " 0.49719089 0.49295703 0.48927304 0.48604852]\n",
      "17 day output [[0.48319516]]\n",
      "Size of x_input: 100\n",
      "18 day input [0.81972311 0.82060599 0.81353006 0.80754176 0.81982551 0.79933978\n",
      " 0.79454144 0.8059167  0.81285192 0.80711947 0.7683105  0.76086345\n",
      " 0.74910433 0.73886787 0.73780586 0.75543814 0.75818919 0.78136199\n",
      " 0.78456089 0.78294863 0.78186101 0.76884788 0.78751668 0.80585272\n",
      " 0.81644743 0.81565414 0.81386276 0.82606973 0.83002355 0.83260828\n",
      " 0.83501383 0.82984443 0.84731039 0.84194906 0.83968421 0.84183391\n",
      " 0.83675404 0.83790564 0.82992121 0.81202021 0.8045348  0.79502765\n",
      " 0.79605129 0.77310885 0.79322346 0.7728913  0.7725586  0.77332633\n",
      " 0.77170133 0.77747215 0.78260313 0.79488688 0.80136146 0.7978811\n",
      " 0.76999948 0.76589215 0.74141417 0.74655802 0.749501   0.73949484\n",
      " 0.74108148 0.73459416 0.73775463 0.7436534  0.74831098 0.73849681\n",
      " 0.74035217 0.73533627 0.76251407 0.76527793 0.75579639 0.76952608\n",
      " 0.75698642 0.76497085 0.76562343 0.76456136 0.76778587 0.77621815\n",
      " 0.7703706  0.77944266 0.77434998 0.78056864 0.74088758 0.70498931\n",
      " 0.66164696 0.62766206 0.60080695 0.57803172 0.55915487 0.54410022\n",
      " 0.53213239 0.5224458  0.51445895 0.50776768 0.50208032 0.49719089\n",
      " 0.49295703 0.48927304 0.48604852 0.48319516]\n",
      "18 day output [[0.4806219]]\n",
      "Size of x_input: 100\n",
      "19 day input [0.82060599 0.81353006 0.80754176 0.81982551 0.79933978 0.79454144\n",
      " 0.8059167  0.81285192 0.80711947 0.7683105  0.76086345 0.74910433\n",
      " 0.73886787 0.73780586 0.75543814 0.75818919 0.78136199 0.78456089\n",
      " 0.78294863 0.78186101 0.76884788 0.78751668 0.80585272 0.81644743\n",
      " 0.81565414 0.81386276 0.82606973 0.83002355 0.83260828 0.83501383\n",
      " 0.82984443 0.84731039 0.84194906 0.83968421 0.84183391 0.83675404\n",
      " 0.83790564 0.82992121 0.81202021 0.8045348  0.79502765 0.79605129\n",
      " 0.77310885 0.79322346 0.7728913  0.7725586  0.77332633 0.77170133\n",
      " 0.77747215 0.78260313 0.79488688 0.80136146 0.7978811  0.76999948\n",
      " 0.76589215 0.74141417 0.74655802 0.749501   0.73949484 0.74108148\n",
      " 0.73459416 0.73775463 0.7436534  0.74831098 0.73849681 0.74035217\n",
      " 0.73533627 0.76251407 0.76527793 0.75579639 0.76952608 0.75698642\n",
      " 0.76497085 0.76562343 0.76456136 0.76778587 0.77621815 0.7703706\n",
      " 0.77944266 0.77434998 0.78056864 0.74088758 0.70498931 0.66164696\n",
      " 0.62766206 0.60080695 0.57803172 0.55915487 0.54410022 0.53213239\n",
      " 0.5224458  0.51445895 0.50776768 0.50208032 0.49719089 0.49295703\n",
      " 0.48927304 0.48604852 0.48319516 0.4806219 ]\n",
      "19 day output [[0.4782354]]\n",
      "Size of x_input: 100\n",
      "20 day input [0.81353006 0.80754176 0.81982551 0.79933978 0.79454144 0.8059167\n",
      " 0.81285192 0.80711947 0.7683105  0.76086345 0.74910433 0.73886787\n",
      " 0.73780586 0.75543814 0.75818919 0.78136199 0.78456089 0.78294863\n",
      " 0.78186101 0.76884788 0.78751668 0.80585272 0.81644743 0.81565414\n",
      " 0.81386276 0.82606973 0.83002355 0.83260828 0.83501383 0.82984443\n",
      " 0.84731039 0.84194906 0.83968421 0.84183391 0.83675404 0.83790564\n",
      " 0.82992121 0.81202021 0.8045348  0.79502765 0.79605129 0.77310885\n",
      " 0.79322346 0.7728913  0.7725586  0.77332633 0.77170133 0.77747215\n",
      " 0.78260313 0.79488688 0.80136146 0.7978811  0.76999948 0.76589215\n",
      " 0.74141417 0.74655802 0.749501   0.73949484 0.74108148 0.73459416\n",
      " 0.73775463 0.7436534  0.74831098 0.73849681 0.74035217 0.73533627\n",
      " 0.76251407 0.76527793 0.75579639 0.76952608 0.75698642 0.76497085\n",
      " 0.76562343 0.76456136 0.76778587 0.77621815 0.7703706  0.77944266\n",
      " 0.77434998 0.78056864 0.74088758 0.70498931 0.66164696 0.62766206\n",
      " 0.60080695 0.57803172 0.55915487 0.54410022 0.53213239 0.5224458\n",
      " 0.51445895 0.50776768 0.50208032 0.49719089 0.49295703 0.48927304\n",
      " 0.48604852 0.48319516 0.4806219  0.47823539]\n",
      "20 day output [[0.47594267]]\n",
      "Size of x_input: 100\n",
      "21 day input [0.80754176 0.81982551 0.79933978 0.79454144 0.8059167  0.81285192\n",
      " 0.80711947 0.7683105  0.76086345 0.74910433 0.73886787 0.73780586\n",
      " 0.75543814 0.75818919 0.78136199 0.78456089 0.78294863 0.78186101\n",
      " 0.76884788 0.78751668 0.80585272 0.81644743 0.81565414 0.81386276\n",
      " 0.82606973 0.83002355 0.83260828 0.83501383 0.82984443 0.84731039\n",
      " 0.84194906 0.83968421 0.84183391 0.83675404 0.83790564 0.82992121\n",
      " 0.81202021 0.8045348  0.79502765 0.79605129 0.77310885 0.79322346\n",
      " 0.7728913  0.7725586  0.77332633 0.77170133 0.77747215 0.78260313\n",
      " 0.79488688 0.80136146 0.7978811  0.76999948 0.76589215 0.74141417\n",
      " 0.74655802 0.749501   0.73949484 0.74108148 0.73459416 0.73775463\n",
      " 0.7436534  0.74831098 0.73849681 0.74035217 0.73533627 0.76251407\n",
      " 0.76527793 0.75579639 0.76952608 0.75698642 0.76497085 0.76562343\n",
      " 0.76456136 0.76778587 0.77621815 0.7703706  0.77944266 0.77434998\n",
      " 0.78056864 0.74088758 0.70498931 0.66164696 0.62766206 0.60080695\n",
      " 0.57803172 0.55915487 0.54410022 0.53213239 0.5224458  0.51445895\n",
      " 0.50776768 0.50208032 0.49719089 0.49295703 0.48927304 0.48604852\n",
      " 0.48319516 0.4806219  0.47823539 0.47594267]\n",
      "21 day output [[0.47365645]]\n",
      "Size of x_input: 100\n",
      "22 day input [0.81982551 0.79933978 0.79454144 0.8059167  0.81285192 0.80711947\n",
      " 0.7683105  0.76086345 0.74910433 0.73886787 0.73780586 0.75543814\n",
      " 0.75818919 0.78136199 0.78456089 0.78294863 0.78186101 0.76884788\n",
      " 0.78751668 0.80585272 0.81644743 0.81565414 0.81386276 0.82606973\n",
      " 0.83002355 0.83260828 0.83501383 0.82984443 0.84731039 0.84194906\n",
      " 0.83968421 0.84183391 0.83675404 0.83790564 0.82992121 0.81202021\n",
      " 0.8045348  0.79502765 0.79605129 0.77310885 0.79322346 0.7728913\n",
      " 0.7725586  0.77332633 0.77170133 0.77747215 0.78260313 0.79488688\n",
      " 0.80136146 0.7978811  0.76999948 0.76589215 0.74141417 0.74655802\n",
      " 0.749501   0.73949484 0.74108148 0.73459416 0.73775463 0.7436534\n",
      " 0.74831098 0.73849681 0.74035217 0.73533627 0.76251407 0.76527793\n",
      " 0.75579639 0.76952608 0.75698642 0.76497085 0.76562343 0.76456136\n",
      " 0.76778587 0.77621815 0.7703706  0.77944266 0.77434998 0.78056864\n",
      " 0.74088758 0.70498931 0.66164696 0.62766206 0.60080695 0.57803172\n",
      " 0.55915487 0.54410022 0.53213239 0.5224458  0.51445895 0.50776768\n",
      " 0.50208032 0.49719089 0.49295703 0.48927304 0.48604852 0.48319516\n",
      " 0.4806219  0.47823539 0.47594267 0.47365645]\n",
      "22 day output [[0.4712997]]\n",
      "Size of x_input: 100\n",
      "23 day input [0.79933978 0.79454144 0.8059167  0.81285192 0.80711947 0.7683105\n",
      " 0.76086345 0.74910433 0.73886787 0.73780586 0.75543814 0.75818919\n",
      " 0.78136199 0.78456089 0.78294863 0.78186101 0.76884788 0.78751668\n",
      " 0.80585272 0.81644743 0.81565414 0.81386276 0.82606973 0.83002355\n",
      " 0.83260828 0.83501383 0.82984443 0.84731039 0.84194906 0.83968421\n",
      " 0.84183391 0.83675404 0.83790564 0.82992121 0.81202021 0.8045348\n",
      " 0.79502765 0.79605129 0.77310885 0.79322346 0.7728913  0.7725586\n",
      " 0.77332633 0.77170133 0.77747215 0.78260313 0.79488688 0.80136146\n",
      " 0.7978811  0.76999948 0.76589215 0.74141417 0.74655802 0.749501\n",
      " 0.73949484 0.74108148 0.73459416 0.73775463 0.7436534  0.74831098\n",
      " 0.73849681 0.74035217 0.73533627 0.76251407 0.76527793 0.75579639\n",
      " 0.76952608 0.75698642 0.76497085 0.76562343 0.76456136 0.76778587\n",
      " 0.77621815 0.7703706  0.77944266 0.77434998 0.78056864 0.74088758\n",
      " 0.70498931 0.66164696 0.62766206 0.60080695 0.57803172 0.55915487\n",
      " 0.54410022 0.53213239 0.5224458  0.51445895 0.50776768 0.50208032\n",
      " 0.49719089 0.49295703 0.48927304 0.48604852 0.48319516 0.4806219\n",
      " 0.47823539 0.47594267 0.47365645 0.47129971]\n",
      "23 day output [[0.46880937]]\n",
      "Size of x_input: 100\n",
      "24 day input [0.79454144 0.8059167  0.81285192 0.80711947 0.7683105  0.76086345\n",
      " 0.74910433 0.73886787 0.73780586 0.75543814 0.75818919 0.78136199\n",
      " 0.78456089 0.78294863 0.78186101 0.76884788 0.78751668 0.80585272\n",
      " 0.81644743 0.81565414 0.81386276 0.82606973 0.83002355 0.83260828\n",
      " 0.83501383 0.82984443 0.84731039 0.84194906 0.83968421 0.84183391\n",
      " 0.83675404 0.83790564 0.82992121 0.81202021 0.8045348  0.79502765\n",
      " 0.79605129 0.77310885 0.79322346 0.7728913  0.7725586  0.77332633\n",
      " 0.77170133 0.77747215 0.78260313 0.79488688 0.80136146 0.7978811\n",
      " 0.76999948 0.76589215 0.74141417 0.74655802 0.749501   0.73949484\n",
      " 0.74108148 0.73459416 0.73775463 0.7436534  0.74831098 0.73849681\n",
      " 0.74035217 0.73533627 0.76251407 0.76527793 0.75579639 0.76952608\n",
      " 0.75698642 0.76497085 0.76562343 0.76456136 0.76778587 0.77621815\n",
      " 0.7703706  0.77944266 0.77434998 0.78056864 0.74088758 0.70498931\n",
      " 0.66164696 0.62766206 0.60080695 0.57803172 0.55915487 0.54410022\n",
      " 0.53213239 0.5224458  0.51445895 0.50776768 0.50208032 0.49719089\n",
      " 0.49295703 0.48927304 0.48604852 0.48319516 0.4806219  0.47823539\n",
      " 0.47594267 0.47365645 0.47129971 0.46880937]\n",
      "24 day output [[0.46613902]]\n",
      "Size of x_input: 100\n",
      "25 day input [0.8059167  0.81285192 0.80711947 0.7683105  0.76086345 0.74910433\n",
      " 0.73886787 0.73780586 0.75543814 0.75818919 0.78136199 0.78456089\n",
      " 0.78294863 0.78186101 0.76884788 0.78751668 0.80585272 0.81644743\n",
      " 0.81565414 0.81386276 0.82606973 0.83002355 0.83260828 0.83501383\n",
      " 0.82984443 0.84731039 0.84194906 0.83968421 0.84183391 0.83675404\n",
      " 0.83790564 0.82992121 0.81202021 0.8045348  0.79502765 0.79605129\n",
      " 0.77310885 0.79322346 0.7728913  0.7725586  0.77332633 0.77170133\n",
      " 0.77747215 0.78260313 0.79488688 0.80136146 0.7978811  0.76999948\n",
      " 0.76589215 0.74141417 0.74655802 0.749501   0.73949484 0.74108148\n",
      " 0.73459416 0.73775463 0.7436534  0.74831098 0.73849681 0.74035217\n",
      " 0.73533627 0.76251407 0.76527793 0.75579639 0.76952608 0.75698642\n",
      " 0.76497085 0.76562343 0.76456136 0.76778587 0.77621815 0.7703706\n",
      " 0.77944266 0.77434998 0.78056864 0.74088758 0.70498931 0.66164696\n",
      " 0.62766206 0.60080695 0.57803172 0.55915487 0.54410022 0.53213239\n",
      " 0.5224458  0.51445895 0.50776768 0.50208032 0.49719089 0.49295703\n",
      " 0.48927304 0.48604852 0.48319516 0.4806219  0.47823539 0.47594267\n",
      " 0.47365645 0.47129971 0.46880937 0.46613902]\n",
      "25 day output [[0.46325913]]\n",
      "Size of x_input: 100\n",
      "26 day input [0.81285192 0.80711947 0.7683105  0.76086345 0.74910433 0.73886787\n",
      " 0.73780586 0.75543814 0.75818919 0.78136199 0.78456089 0.78294863\n",
      " 0.78186101 0.76884788 0.78751668 0.80585272 0.81644743 0.81565414\n",
      " 0.81386276 0.82606973 0.83002355 0.83260828 0.83501383 0.82984443\n",
      " 0.84731039 0.84194906 0.83968421 0.84183391 0.83675404 0.83790564\n",
      " 0.82992121 0.81202021 0.8045348  0.79502765 0.79605129 0.77310885\n",
      " 0.79322346 0.7728913  0.7725586  0.77332633 0.77170133 0.77747215\n",
      " 0.78260313 0.79488688 0.80136146 0.7978811  0.76999948 0.76589215\n",
      " 0.74141417 0.74655802 0.749501   0.73949484 0.74108148 0.73459416\n",
      " 0.73775463 0.7436534  0.74831098 0.73849681 0.74035217 0.73533627\n",
      " 0.76251407 0.76527793 0.75579639 0.76952608 0.75698642 0.76497085\n",
      " 0.76562343 0.76456136 0.76778587 0.77621815 0.7703706  0.77944266\n",
      " 0.77434998 0.78056864 0.74088758 0.70498931 0.66164696 0.62766206\n",
      " 0.60080695 0.57803172 0.55915487 0.54410022 0.53213239 0.5224458\n",
      " 0.51445895 0.50776768 0.50208032 0.49719089 0.49295703 0.48927304\n",
      " 0.48604852 0.48319516 0.4806219  0.47823539 0.47594267 0.47365645\n",
      " 0.47129971 0.46880937 0.46613902 0.46325913]\n",
      "26 day output [[0.46015656]]\n",
      "Size of x_input: 100\n",
      "27 day input [0.80711947 0.7683105  0.76086345 0.74910433 0.73886787 0.73780586\n",
      " 0.75543814 0.75818919 0.78136199 0.78456089 0.78294863 0.78186101\n",
      " 0.76884788 0.78751668 0.80585272 0.81644743 0.81565414 0.81386276\n",
      " 0.82606973 0.83002355 0.83260828 0.83501383 0.82984443 0.84731039\n",
      " 0.84194906 0.83968421 0.84183391 0.83675404 0.83790564 0.82992121\n",
      " 0.81202021 0.8045348  0.79502765 0.79605129 0.77310885 0.79322346\n",
      " 0.7728913  0.7725586  0.77332633 0.77170133 0.77747215 0.78260313\n",
      " 0.79488688 0.80136146 0.7978811  0.76999948 0.76589215 0.74141417\n",
      " 0.74655802 0.749501   0.73949484 0.74108148 0.73459416 0.73775463\n",
      " 0.7436534  0.74831098 0.73849681 0.74035217 0.73533627 0.76251407\n",
      " 0.76527793 0.75579639 0.76952608 0.75698642 0.76497085 0.76562343\n",
      " 0.76456136 0.76778587 0.77621815 0.7703706  0.77944266 0.77434998\n",
      " 0.78056864 0.74088758 0.70498931 0.66164696 0.62766206 0.60080695\n",
      " 0.57803172 0.55915487 0.54410022 0.53213239 0.5224458  0.51445895\n",
      " 0.50776768 0.50208032 0.49719089 0.49295703 0.48927304 0.48604852\n",
      " 0.48319516 0.4806219  0.47823539 0.47594267 0.47365645 0.47129971\n",
      " 0.46880937 0.46613902 0.46325913 0.46015656]\n",
      "27 day output [[0.45683244]]\n",
      "Size of x_input: 100\n",
      "28 day input [0.7683105  0.76086345 0.74910433 0.73886787 0.73780586 0.75543814\n",
      " 0.75818919 0.78136199 0.78456089 0.78294863 0.78186101 0.76884788\n",
      " 0.78751668 0.80585272 0.81644743 0.81565414 0.81386276 0.82606973\n",
      " 0.83002355 0.83260828 0.83501383 0.82984443 0.84731039 0.84194906\n",
      " 0.83968421 0.84183391 0.83675404 0.83790564 0.82992121 0.81202021\n",
      " 0.8045348  0.79502765 0.79605129 0.77310885 0.79322346 0.7728913\n",
      " 0.7725586  0.77332633 0.77170133 0.77747215 0.78260313 0.79488688\n",
      " 0.80136146 0.7978811  0.76999948 0.76589215 0.74141417 0.74655802\n",
      " 0.749501   0.73949484 0.74108148 0.73459416 0.73775463 0.7436534\n",
      " 0.74831098 0.73849681 0.74035217 0.73533627 0.76251407 0.76527793\n",
      " 0.75579639 0.76952608 0.75698642 0.76497085 0.76562343 0.76456136\n",
      " 0.76778587 0.77621815 0.7703706  0.77944266 0.77434998 0.78056864\n",
      " 0.74088758 0.70498931 0.66164696 0.62766206 0.60080695 0.57803172\n",
      " 0.55915487 0.54410022 0.53213239 0.5224458  0.51445895 0.50776768\n",
      " 0.50208032 0.49719089 0.49295703 0.48927304 0.48604852 0.48319516\n",
      " 0.4806219  0.47823539 0.47594267 0.47365645 0.47129971 0.46880937\n",
      " 0.46613902 0.46325913 0.46015656 0.45683244]\n",
      "28 day output [[0.45330006]]\n",
      "Size of x_input: 100\n",
      "29 day input [0.76086345 0.74910433 0.73886787 0.73780586 0.75543814 0.75818919\n",
      " 0.78136199 0.78456089 0.78294863 0.78186101 0.76884788 0.78751668\n",
      " 0.80585272 0.81644743 0.81565414 0.81386276 0.82606973 0.83002355\n",
      " 0.83260828 0.83501383 0.82984443 0.84731039 0.84194906 0.83968421\n",
      " 0.84183391 0.83675404 0.83790564 0.82992121 0.81202021 0.8045348\n",
      " 0.79502765 0.79605129 0.77310885 0.79322346 0.7728913  0.7725586\n",
      " 0.77332633 0.77170133 0.77747215 0.78260313 0.79488688 0.80136146\n",
      " 0.7978811  0.76999948 0.76589215 0.74141417 0.74655802 0.749501\n",
      " 0.73949484 0.74108148 0.73459416 0.73775463 0.7436534  0.74831098\n",
      " 0.73849681 0.74035217 0.73533627 0.76251407 0.76527793 0.75579639\n",
      " 0.76952608 0.75698642 0.76497085 0.76562343 0.76456136 0.76778587\n",
      " 0.77621815 0.7703706  0.77944266 0.77434998 0.78056864 0.74088758\n",
      " 0.70498931 0.66164696 0.62766206 0.60080695 0.57803172 0.55915487\n",
      " 0.54410022 0.53213239 0.5224458  0.51445895 0.50776768 0.50208032\n",
      " 0.49719089 0.49295703 0.48927304 0.48604852 0.48319516 0.4806219\n",
      " 0.47823539 0.47594267 0.47365645 0.47129971 0.46880937 0.46613902\n",
      " 0.46325913 0.46015656 0.45683244 0.45330006]\n",
      "29 day output [[0.44958153]]\n",
      "Size of x_input: 100\n",
      "[[0.7408875823020935], [0.7049893140792847], [0.6616469621658325], [0.6276620626449585], [0.6008069515228271], [0.5780317187309265], [0.5591548681259155], [0.5441002249717712], [0.5321323871612549], [0.522445797920227], [0.514458954334259], [0.5077676773071289], [0.5020803213119507], [0.4971908926963806], [0.4929570257663727], [0.4892730414867401], [0.48604851961135864], [0.48319515585899353], [0.48062190413475037], [0.4782353937625885], [0.4759426712989807], [0.47365644574165344], [0.4712997078895569], [0.4688093662261963], [0.466139018535614], [0.46325913071632385], [0.46015655994415283], [0.4568324387073517], [0.4533000588417053], [0.4495815336704254]]\n"
     ]
    }
   ],
   "source": [
    "#prediction for 30 days\n",
    "from numpy import array\n",
    "lst_output=[] # predicted 30 days output\n",
    "n_steps=100\n",
    "i=0\n",
    "while(i<30):\n",
    "    if(len(temp_input)>100):\n",
    "        #print(temp_input)\n",
    "        x_input=np.array(temp_input[1:])\n",
    "        print(\"{} day input {}\".format(i,x_input))\n",
    "        x_input=x_input.reshape(1,-1)\n",
    "        x_input=x_input.reshape((1,n_steps,1))\n",
    "        #print(x_input)\n",
    "        yhat=model.predict(x_input,verbose=0)\n",
    "        print(\"{} day output {}\".format(i,yhat))\n",
    "        print(\"Size of x_input:\", x_input.size)\n",
    "        temp_input.extend(yhat[0].tolist())\n",
    "        temp_input=temp_input[1:]\n",
    "        #print(temp_input)\n",
    "        lst_output.extend(yhat.tolist())\n",
    "        i=i+1\n",
    "    else:\n",
    "        x_input=x_input.reshape((1,n_steps,1))\n",
    "        yhat=model.predict(x_input,verbose=0)\n",
    "        print(yhat[0])\n",
    "        temp_input.extend(yhat[0].tolist())\n",
    "        print(len(temp_input))\n",
    "        lst_output.extend(yhat.tolist())\n",
    "        i=i+1\n",
    "print(lst_output)"
   ]
  },
  {
   "cell_type": "markdown",
   "metadata": {},
   "source": [
    "#### Plotting last 130 days closing price"
   ]
  },
  {
   "cell_type": "code",
   "execution_count": 116,
   "metadata": {},
   "outputs": [],
   "source": [
    "#plotting last 130 days closing price\n",
    "day_new=np.arange(1,101)\n",
    "day_pred=np.arange(101,131)"
   ]
  },
  {
   "cell_type": "code",
   "execution_count": 117,
   "metadata": {},
   "outputs": [
    {
     "data": {
      "text/plain": [
       "4486"
      ]
     },
     "execution_count": 117,
     "metadata": {},
     "output_type": "execute_result"
    }
   ],
   "source": [
    "len(close_sort)"
   ]
  },
  {
   "cell_type": "code",
   "execution_count": 122,
   "metadata": {},
   "outputs": [
    {
     "data": {
      "text/plain": [
       "[<matplotlib.lines.Line2D at 0x275facc9210>]"
      ]
     },
     "execution_count": 122,
     "metadata": {},
     "output_type": "execute_result"
    },
    {
     "data": {
      "image/png": "[encoded data removed]",
      "text/plain": [
       "<Figure size 1000x700 with 1 Axes>"
      ]
     },
     "metadata": {},
     "output_type": "display_data"
    }
   ],
   "source": [
    "plt.figure(figsize=(10,7))\n",
    "plt.plot(day_new,scale.inverse_transform(close_sort[4386:]))\n",
    "plt.plot(day_pred,scale.inverse_transform(lst_output))\n"
   ]
  },
  {
   "cell_type": "markdown",
   "metadata": {},
   "source": [
    "#### Appending done for continuous graph"
   ]
  },
  {
   "cell_type": "code",
   "execution_count": 124,
   "metadata": {},
   "outputs": [],
   "source": [
    "app=close_sort.tolist()\n",
    "#adding specified list of predicted 30 days output at the end of last 100 days output\n",
    "app.extend(lst_output)"
   ]
  },
  {
   "cell_type": "code",
   "execution_count": 125,
   "metadata": {},
   "outputs": [
    {
     "data": {
      "text/plain": [
       "4516"
      ]
     },
     "execution_count": 125,
     "metadata": {},
     "output_type": "execute_result"
    }
   ],
   "source": [
    "len(app)"
   ]
  },
  {
   "cell_type": "code",
   "execution_count": 126,
   "metadata": {},
   "outputs": [
    {
     "data": {
      "text/plain": [
       "[<matplotlib.lines.Line2D at 0x275fadc4490>]"
      ]
     },
     "execution_count": 126,
     "metadata": {},
     "output_type": "execute_result"
    },
    {
     "data": {
      "image/png": "[encoded data removed]",
      "text/plain": [
       "<Figure size 1000x700 with 1 Axes>"
      ]
     },
     "metadata": {},
     "output_type": "display_data"
    }
   ],
   "source": [
    "plt.figure(figsize=(10,7))\n",
    "plt.plot(app[4386:])# latesr 100 days output"
   ]
  },
  {
   "cell_type": "markdown",
   "metadata": {},
   "source": [
    "#### plotting the graph with 30days predicted output"
   ]
  },
  {
   "cell_type": "code",
   "execution_count": 130,
   "metadata": {},
   "outputs": [],
   "source": [
    "#undoin scaling of app\n",
    "app=scale.inverse_transform(app).tolist()"
   ]
  },
  {
   "cell_type": "code",
   "execution_count": 131,
   "metadata": {},
   "outputs": [
    {
     "data": {
      "text/plain": [
       "[<matplotlib.lines.Line2D at 0x275f9e9e990>]"
      ]
     },
     "execution_count": 131,
     "metadata": {},
     "output_type": "execute_result"
    },
    {
     "data": {
      "image/png": "[encoded data removed]",
      "text/plain": [
       "<Figure size 1000x700 with 1 Axes>"
      ]
     },
     "metadata": {},
     "output_type": "display_data"
    }
   ],
   "source": [
    "plt.figure(figsize=(10,7))\n",
    "plt.plot(app,c='g')"
   ]
  },
  {
   "cell_type": "code",
   "execution_count": null,
   "metadata": {},
   "outputs": [],
   "source": []
  }
 ],
 "metadata": {
  "kernelspec": {
   "display_name": "Python 3",
   "language": "python",
   "name": "python3"
  },
  "language_info": {
   "codemirror_mode": {
    "name": "ipython",
    "version": 3
   },
   "file_extension": ".py",
   "mimetype": "text/x-python",
   "name": "python",
   "nbconvert_exporter": "python",
   "pygments_lexer": "ipython3",
   "version": "3.11.4"
  }
 },
 "nbformat": 4,
 "nbformat_minor": 5
}
